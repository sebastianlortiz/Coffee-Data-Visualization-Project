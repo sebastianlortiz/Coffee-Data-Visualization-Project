{
 "cells": [
  {
   "cell_type": "markdown",
   "id": "bc6ba46e",
   "metadata": {},
   "source": [
    "# COFFEE\n"
   ]
  },
  {
   "cell_type": "markdown",
   "id": "92b28eef",
   "metadata": {},
   "source": [
    "The connection with coffee is personal. My great-grandparents used to be owners of coffee farms in Colombia. Going back to the late 1800s and early 1900s, we have always been a coffee drinking and coffee producing nation. My father and I have always considered opening a coffeeshop to continue watering our roots as coffeemakers. In consideration of this, I have always been curious - what is the best coffee in the world? If we were to have a coffeeshop, what coffees would we want? We would probably want an assortment of coffees - not just being limited to Colombian (however biased we may be). We would want to have a truly diverse array of coffees. Coffee from all around the world. What is the best coffee from each continent? Which country produces the best coffee? What processing method produces the best tasting coffee? These are the questions I set out to answer in this project."
   ]
  },
  {
   "cell_type": "markdown",
   "id": "a9c2a7c3",
   "metadata": {},
   "source": [
    "Coffee is the lifeblood of people all around the world. From the working class to upper class, this beautiful bean powers our days. Indeed, coffee may be the reason the world goes 'round. In our days as coffee drinkers, we may have had our fair share of delicious and disgusting coffees. Life is short - we should try to focus on those coffees which are best. Let us find out - which country, according to an average of experts, produces the best coffee? Let us find out."
   ]
  },
  {
   "cell_type": "markdown",
   "id": "ba6042bf",
   "metadata": {},
   "source": [
    "I began searching for coffee-related datasets on Kaggle to see what I could find. Amazingly, I found the perfect dataset. This is the \"Coffee Quality Data (CQI May-2023)\" dataset from the Coffee Quality Institute. (https://www.kaggle.com/datasets/fatihb/coffee-quality-data-cqi)\n",
    "\n",
    "The Coffee Quality Institute (henceforth, CQI)is a non-profit organization working internationally to improve the quality of coffee and the lives of people who produce it.^1 (https://www.coffeeinstitute.org/)\n",
    "\n",
    "This dataset is from a database that CQI maintains as a resource for coffee professionals and enthusiasts who are interseted in learning about coffee quality and sustainability.\n",
    "\n",
    "This dataset has an array of 10 different sensory evaluations (aroma, flavor, aftertaste, etc). For our purposes, we will use the addition of all these - Total Cup Points.\n",
    "\n",
    "The dataset also has the Country of Origin, Region, Farm Name, Altitude, and Processing Method. We will be focusing on Country of Origin, Altitude, and Processing Method for these purposes."
   ]
  },
  {
   "cell_type": "markdown",
   "id": "a1ab4727",
   "metadata": {},
   "source": [
    "### TABLE OF CONTENTS\n",
    "\n",
    "1. Objective\n",
    "2. Summary\n",
    "3. Methods\n",
    "4. Analysis\n",
    "5. Conclusion\n",
    "\n",
    "Questions I had and what did I discover?"
   ]
  },
  {
   "cell_type": "markdown",
   "id": "6f5d12e3",
   "metadata": {},
   "source": [
    "### OBJECTIVE\n",
    "In this project, I aim to investigate how geographic origin and processing methods affect the quality of coffee, as determined by Total Cup Points. Specifically, I will assess:\n",
    "\n",
    "1. **Global Coffee Quality** : A country by country, continent by continent, and in specific cases - region by region analysis of coffee farms with the highest rating.\n",
    "\n",
    "2. **Processing Method Quality** : A brief analysis into the different ways of processing coffee beans, including factors such as cost, effieciency, and taste as measured by Total Cup Points.\n",
    "\n",
    "By presenting these findings, I hope to bring more clarity into more informed coffee purchasing decisions for the coffee enthusiast, the barista, or coffeeshop owner."
   ]
  },
  {
   "cell_type": "markdown",
   "id": "27e7977b",
   "metadata": {},
   "source": [
    "### SUMMARY\n",
    "The top five countries for coffee quality are:\n",
    "\n",
    "1. Ethiopia\n",
    "2. Tanzania\n",
    "3. Taiwan\n",
    "4. Guatemala\n",
    "5. Madagascar\n",
    "\n",
    "Considering that the coffee bean originates in Ethiopia (https://www.britannica.com/topic/history-of-coffee), it is not surprising that the best quality originates from that region. Tanzania as a close neighboring country makes sense as well.\n",
    "\n",
    "The top coffees from each continent are as follows:\n",
    "\n",
    "- **North America** : Guatemala\n",
    "- **South America**: Colombia\n",
    "- **Africa** : Ethiopia\n",
    "- **Asia** : Taiwan\n",
    "- **Oceania** : Hawaii\n",
    "\n",
    "Considering the latitudes of these countries respective to their continents (largely in the Bean Belt (https://elevencoffees.com/the-coffee-bean-belt-what-is-it-and-why-is-it-important/), they are conducive to the highest quality cup of coffee.\n",
    "\n",
    "Further investigation to follow in the notebook."
   ]
  },
  {
   "cell_type": "markdown",
   "id": "c188d937",
   "metadata": {},
   "source": [
    "### METHODS\n",
    "The data was analyzed using boxplots, means, ANOVA tables, and correlation matrices.\n",
    "\n",
    "- **Boxplots**:Boxplots help to visualize the differences between the different continents, countries, and processing methods. Just how much better is an Ethiopian coffee than a Colombian? Are there any outliers?\n",
    "- **Sorted Means**: Sorting the means gives a quick and easy way to see what are the top countries and processing methods for coffee. \n",
    "- **ANOVA Tables**: The tables help to see whether the differences in means are statistically significant.\n",
    "- **Correlation Matrices**: Additional analysis to see any interesting relationships."
   ]
  },
  {
   "cell_type": "code",
   "execution_count": 48,
   "id": "407d6bac",
   "metadata": {},
   "outputs": [],
   "source": [
    "import numpy as np\n",
    "import pandas as pd\n",
    "from matplotlib import pyplot as plt\n",
    "import seaborn as sns\n",
    "import pandas as pd\n",
    "import scipy.stats as stats\n",
    "import statsmodels.api as sm\n",
    "from statsmodels.formula.api import ols\n",
    "import matplotlib.pyplot as plt\n",
    "import seaborn as sns\n",
    "\n",
    "df = pd.read_csv('df_arabica_clean.csv', index_col=1) #opens the file"
   ]
  },
  {
   "cell_type": "code",
   "execution_count": 49,
   "id": "1b955025",
   "metadata": {
    "scrolled": true
   },
   "outputs": [
    {
     "data": {
      "text/html": [
       "<div>\n",
       "<style scoped>\n",
       "    .dataframe tbody tr th:only-of-type {\n",
       "        vertical-align: middle;\n",
       "    }\n",
       "\n",
       "    .dataframe tbody tr th {\n",
       "        vertical-align: top;\n",
       "    }\n",
       "\n",
       "    .dataframe thead th {\n",
       "        text-align: right;\n",
       "    }\n",
       "</style>\n",
       "<table border=\"1\" class=\"dataframe\">\n",
       "  <thead>\n",
       "    <tr style=\"text-align: right;\">\n",
       "      <th></th>\n",
       "      <th>Unnamed: 0</th>\n",
       "      <th>Country of Origin</th>\n",
       "      <th>Farm Name</th>\n",
       "      <th>Lot Number</th>\n",
       "      <th>Mill</th>\n",
       "      <th>ICO Number</th>\n",
       "      <th>Company</th>\n",
       "      <th>Altitude</th>\n",
       "      <th>Region</th>\n",
       "      <th>Producer</th>\n",
       "      <th>...</th>\n",
       "      <th>Total Cup Points</th>\n",
       "      <th>Moisture Percentage</th>\n",
       "      <th>Category One Defects</th>\n",
       "      <th>Quakers</th>\n",
       "      <th>Color</th>\n",
       "      <th>Category Two Defects</th>\n",
       "      <th>Expiration</th>\n",
       "      <th>Certification Body</th>\n",
       "      <th>Certification Address</th>\n",
       "      <th>Certification Contact</th>\n",
       "    </tr>\n",
       "    <tr>\n",
       "      <th>ID</th>\n",
       "      <th></th>\n",
       "      <th></th>\n",
       "      <th></th>\n",
       "      <th></th>\n",
       "      <th></th>\n",
       "      <th></th>\n",
       "      <th></th>\n",
       "      <th></th>\n",
       "      <th></th>\n",
       "      <th></th>\n",
       "      <th></th>\n",
       "      <th></th>\n",
       "      <th></th>\n",
       "      <th></th>\n",
       "      <th></th>\n",
       "      <th></th>\n",
       "      <th></th>\n",
       "      <th></th>\n",
       "      <th></th>\n",
       "      <th></th>\n",
       "      <th></th>\n",
       "    </tr>\n",
       "  </thead>\n",
       "  <tbody>\n",
       "    <tr>\n",
       "      <th>0</th>\n",
       "      <td>0</td>\n",
       "      <td>Colombia</td>\n",
       "      <td>Finca El Paraiso</td>\n",
       "      <td>CQU2022015</td>\n",
       "      <td>Finca El Paraiso</td>\n",
       "      <td>NaN</td>\n",
       "      <td>Coffee Quality Union</td>\n",
       "      <td>1700-1930</td>\n",
       "      <td>Piendamo,Cauca</td>\n",
       "      <td>Diego Samuel Bermudez</td>\n",
       "      <td>...</td>\n",
       "      <td>89.33</td>\n",
       "      <td>11.8</td>\n",
       "      <td>0</td>\n",
       "      <td>0</td>\n",
       "      <td>green</td>\n",
       "      <td>3</td>\n",
       "      <td>September 21st, 2023</td>\n",
       "      <td>Japan Coffee Exchange</td>\n",
       "      <td>〒413-0002 静岡県熱海市伊豆山１１７３−５８ 1173-58 Izusan, Ata...</td>\n",
       "      <td>松澤　宏樹　Koju Matsuzawa - +81(0)9085642901</td>\n",
       "    </tr>\n",
       "    <tr>\n",
       "      <th>1</th>\n",
       "      <td>1</td>\n",
       "      <td>Taiwan</td>\n",
       "      <td>Royal Bean Geisha Estate</td>\n",
       "      <td>The 2022 Pacific Rim Coffee Summit,T037</td>\n",
       "      <td>Royal Bean Geisha Estate</td>\n",
       "      <td>NaN</td>\n",
       "      <td>Taiwan Coffee Laboratory</td>\n",
       "      <td>1200</td>\n",
       "      <td>Chiayi</td>\n",
       "      <td>曾福森</td>\n",
       "      <td>...</td>\n",
       "      <td>87.58</td>\n",
       "      <td>10.5</td>\n",
       "      <td>0</td>\n",
       "      <td>0</td>\n",
       "      <td>blue-green</td>\n",
       "      <td>0</td>\n",
       "      <td>November 15th, 2023</td>\n",
       "      <td>Taiwan Coffee Laboratory 台灣咖啡研究室</td>\n",
       "      <td>QAHWAH CO., LTD 4F, No. 225, Sec. 3, Beixin Rd...</td>\n",
       "      <td>Lin, Jen-An Neil 林仁安 - 886-289116612</td>\n",
       "    </tr>\n",
       "    <tr>\n",
       "      <th>2</th>\n",
       "      <td>2</td>\n",
       "      <td>Laos</td>\n",
       "      <td>OKLAO coffee farms</td>\n",
       "      <td>The 2022 Pacific Rim Coffee Summit,LA01</td>\n",
       "      <td>oklao coffee processing plant</td>\n",
       "      <td>NaN</td>\n",
       "      <td>Taiwan Coffee Laboratory</td>\n",
       "      <td>1300</td>\n",
       "      <td>Laos Borofen Plateau</td>\n",
       "      <td>WU TAO CHI</td>\n",
       "      <td>...</td>\n",
       "      <td>87.42</td>\n",
       "      <td>10.4</td>\n",
       "      <td>0</td>\n",
       "      <td>0</td>\n",
       "      <td>yellowish</td>\n",
       "      <td>2</td>\n",
       "      <td>November 15th, 2023</td>\n",
       "      <td>Taiwan Coffee Laboratory 台灣咖啡研究室</td>\n",
       "      <td>QAHWAH CO., LTD 4F, No. 225, Sec. 3, Beixin Rd...</td>\n",
       "      <td>Lin, Jen-An Neil 林仁安 - 886-289116612</td>\n",
       "    </tr>\n",
       "    <tr>\n",
       "      <th>3</th>\n",
       "      <td>3</td>\n",
       "      <td>Costa Rica</td>\n",
       "      <td>La Cumbre</td>\n",
       "      <td>CQU2022017</td>\n",
       "      <td>La Montana Tarrazu MIll</td>\n",
       "      <td>NaN</td>\n",
       "      <td>Coffee Quality Union</td>\n",
       "      <td>1900</td>\n",
       "      <td>Los Santos,Tarrazu</td>\n",
       "      <td>Santa Maria de Dota</td>\n",
       "      <td>...</td>\n",
       "      <td>87.17</td>\n",
       "      <td>11.8</td>\n",
       "      <td>0</td>\n",
       "      <td>0</td>\n",
       "      <td>green</td>\n",
       "      <td>0</td>\n",
       "      <td>September 21st, 2023</td>\n",
       "      <td>Japan Coffee Exchange</td>\n",
       "      <td>〒413-0002 静岡県熱海市伊豆山１１７３−５８ 1173-58 Izusan, Ata...</td>\n",
       "      <td>松澤　宏樹　Koju Matsuzawa - +81(0)9085642901</td>\n",
       "    </tr>\n",
       "    <tr>\n",
       "      <th>4</th>\n",
       "      <td>4</td>\n",
       "      <td>Colombia</td>\n",
       "      <td>Finca Santuario</td>\n",
       "      <td>CQU2023002</td>\n",
       "      <td>Finca Santuario</td>\n",
       "      <td>NaN</td>\n",
       "      <td>Coffee Quality Union</td>\n",
       "      <td>1850-2100</td>\n",
       "      <td>Popayan,Cauca</td>\n",
       "      <td>Camilo Merizalde</td>\n",
       "      <td>...</td>\n",
       "      <td>87.08</td>\n",
       "      <td>11.6</td>\n",
       "      <td>0</td>\n",
       "      <td>2</td>\n",
       "      <td>yellow-green</td>\n",
       "      <td>2</td>\n",
       "      <td>March 5th, 2024</td>\n",
       "      <td>Japan Coffee Exchange</td>\n",
       "      <td>〒413-0002 静岡県熱海市伊豆山１１７３−５８ 1173-58 Izusan, Ata...</td>\n",
       "      <td>松澤　宏樹　Koju Matsuzawa - +81(0)9085642901</td>\n",
       "    </tr>\n",
       "  </tbody>\n",
       "</table>\n",
       "<p>5 rows × 40 columns</p>\n",
       "</div>"
      ],
      "text/plain": [
       "    Unnamed: 0 Country of Origin                 Farm Name  \\\n",
       "ID                                                           \n",
       "0            0          Colombia          Finca El Paraiso   \n",
       "1            1            Taiwan  Royal Bean Geisha Estate   \n",
       "2            2              Laos        OKLAO coffee farms   \n",
       "3            3        Costa Rica                 La Cumbre   \n",
       "4            4          Colombia           Finca Santuario   \n",
       "\n",
       "                                 Lot Number                           Mill  \\\n",
       "ID                                                                           \n",
       "0                                CQU2022015               Finca El Paraiso   \n",
       "1   The 2022 Pacific Rim Coffee Summit,T037       Royal Bean Geisha Estate   \n",
       "2   The 2022 Pacific Rim Coffee Summit,LA01  oklao coffee processing plant   \n",
       "3                                CQU2022017        La Montana Tarrazu MIll   \n",
       "4                                CQU2023002                Finca Santuario   \n",
       "\n",
       "   ICO Number                   Company   Altitude                Region  \\\n",
       "ID                                                                         \n",
       "0         NaN      Coffee Quality Union  1700-1930        Piendamo,Cauca   \n",
       "1         NaN  Taiwan Coffee Laboratory       1200                Chiayi   \n",
       "2         NaN  Taiwan Coffee Laboratory       1300  Laos Borofen Plateau   \n",
       "3         NaN      Coffee Quality Union       1900    Los Santos,Tarrazu   \n",
       "4         NaN      Coffee Quality Union  1850-2100         Popayan,Cauca   \n",
       "\n",
       "                 Producer  ...  Total Cup Points Moisture Percentage  \\\n",
       "ID                         ...                                         \n",
       "0   Diego Samuel Bermudez  ...             89.33                11.8   \n",
       "1                     曾福森  ...             87.58                10.5   \n",
       "2              WU TAO CHI  ...             87.42                10.4   \n",
       "3     Santa Maria de Dota  ...             87.17                11.8   \n",
       "4        Camilo Merizalde  ...             87.08                11.6   \n",
       "\n",
       "   Category One Defects Quakers         Color Category Two Defects  \\\n",
       "ID                                                                   \n",
       "0                     0       0         green                    3   \n",
       "1                     0       0    blue-green                    0   \n",
       "2                     0       0     yellowish                    2   \n",
       "3                     0       0         green                    0   \n",
       "4                     0       2  yellow-green                    2   \n",
       "\n",
       "              Expiration                Certification Body  \\\n",
       "ID                                                           \n",
       "0   September 21st, 2023             Japan Coffee Exchange   \n",
       "1    November 15th, 2023  Taiwan Coffee Laboratory 台灣咖啡研究室   \n",
       "2    November 15th, 2023  Taiwan Coffee Laboratory 台灣咖啡研究室   \n",
       "3   September 21st, 2023             Japan Coffee Exchange   \n",
       "4        March 5th, 2024             Japan Coffee Exchange   \n",
       "\n",
       "                                Certification Address  \\\n",
       "ID                                                      \n",
       "0   〒413-0002 静岡県熱海市伊豆山１１７３−５８ 1173-58 Izusan, Ata...   \n",
       "1   QAHWAH CO., LTD 4F, No. 225, Sec. 3, Beixin Rd...   \n",
       "2   QAHWAH CO., LTD 4F, No. 225, Sec. 3, Beixin Rd...   \n",
       "3   〒413-0002 静岡県熱海市伊豆山１１７３−５８ 1173-58 Izusan, Ata...   \n",
       "4   〒413-0002 静岡県熱海市伊豆山１１７３−５８ 1173-58 Izusan, Ata...   \n",
       "\n",
       "                      Certification Contact  \n",
       "ID                                           \n",
       "0   松澤　宏樹　Koju Matsuzawa - +81(0)9085642901  \n",
       "1      Lin, Jen-An Neil 林仁安 - 886-289116612  \n",
       "2      Lin, Jen-An Neil 林仁安 - 886-289116612  \n",
       "3   松澤　宏樹　Koju Matsuzawa - +81(0)9085642901  \n",
       "4   松澤　宏樹　Koju Matsuzawa - +81(0)9085642901  \n",
       "\n",
       "[5 rows x 40 columns]"
      ]
     },
     "execution_count": 49,
     "metadata": {},
     "output_type": "execute_result"
    }
   ],
   "source": [
    "df.head()"
   ]
  },
  {
   "cell_type": "markdown",
   "id": "e400953a",
   "metadata": {},
   "source": [
    "Data Cleaning."
   ]
  },
  {
   "cell_type": "code",
   "execution_count": 50,
   "id": "87b55115",
   "metadata": {
    "scrolled": false
   },
   "outputs": [
    {
     "data": {
      "text/html": [
       "<div>\n",
       "<style scoped>\n",
       "    .dataframe tbody tr th:only-of-type {\n",
       "        vertical-align: middle;\n",
       "    }\n",
       "\n",
       "    .dataframe tbody tr th {\n",
       "        vertical-align: top;\n",
       "    }\n",
       "\n",
       "    .dataframe thead th {\n",
       "        text-align: right;\n",
       "    }\n",
       "</style>\n",
       "<table border=\"1\" class=\"dataframe\">\n",
       "  <thead>\n",
       "    <tr style=\"text-align: right;\">\n",
       "      <th></th>\n",
       "      <th>Country of Origin</th>\n",
       "      <th>Farm Name</th>\n",
       "      <th>Altitude</th>\n",
       "      <th>Region</th>\n",
       "      <th>Variety</th>\n",
       "      <th>Processing Method</th>\n",
       "      <th>Aroma</th>\n",
       "      <th>Flavor</th>\n",
       "      <th>Aftertaste</th>\n",
       "      <th>Acidity</th>\n",
       "      <th>...</th>\n",
       "      <th>Balance</th>\n",
       "      <th>Uniformity</th>\n",
       "      <th>Clean Cup</th>\n",
       "      <th>Sweetness</th>\n",
       "      <th>Overall</th>\n",
       "      <th>Defects</th>\n",
       "      <th>Total Cup Points</th>\n",
       "      <th>Moisture Percentage</th>\n",
       "      <th>Color</th>\n",
       "      <th>Category Two Defects</th>\n",
       "    </tr>\n",
       "    <tr>\n",
       "      <th>ID</th>\n",
       "      <th></th>\n",
       "      <th></th>\n",
       "      <th></th>\n",
       "      <th></th>\n",
       "      <th></th>\n",
       "      <th></th>\n",
       "      <th></th>\n",
       "      <th></th>\n",
       "      <th></th>\n",
       "      <th></th>\n",
       "      <th></th>\n",
       "      <th></th>\n",
       "      <th></th>\n",
       "      <th></th>\n",
       "      <th></th>\n",
       "      <th></th>\n",
       "      <th></th>\n",
       "      <th></th>\n",
       "      <th></th>\n",
       "      <th></th>\n",
       "      <th></th>\n",
       "    </tr>\n",
       "  </thead>\n",
       "  <tbody>\n",
       "    <tr>\n",
       "      <th>0</th>\n",
       "      <td>Colombia</td>\n",
       "      <td>Finca El Paraiso</td>\n",
       "      <td>1700-1930</td>\n",
       "      <td>Piendamo,Cauca</td>\n",
       "      <td>Castillo</td>\n",
       "      <td>Double Anaerobic Washed</td>\n",
       "      <td>8.58</td>\n",
       "      <td>8.50</td>\n",
       "      <td>8.42</td>\n",
       "      <td>8.58</td>\n",
       "      <td>...</td>\n",
       "      <td>8.42</td>\n",
       "      <td>10.0</td>\n",
       "      <td>10.0</td>\n",
       "      <td>10.0</td>\n",
       "      <td>8.58</td>\n",
       "      <td>0.0</td>\n",
       "      <td>89.33</td>\n",
       "      <td>11.8</td>\n",
       "      <td>green</td>\n",
       "      <td>3</td>\n",
       "    </tr>\n",
       "    <tr>\n",
       "      <th>1</th>\n",
       "      <td>Taiwan</td>\n",
       "      <td>Royal Bean Geisha Estate</td>\n",
       "      <td>1200</td>\n",
       "      <td>Chiayi</td>\n",
       "      <td>Gesha</td>\n",
       "      <td>Washed / Wet</td>\n",
       "      <td>8.50</td>\n",
       "      <td>8.50</td>\n",
       "      <td>7.92</td>\n",
       "      <td>8.00</td>\n",
       "      <td>...</td>\n",
       "      <td>8.25</td>\n",
       "      <td>10.0</td>\n",
       "      <td>10.0</td>\n",
       "      <td>10.0</td>\n",
       "      <td>8.50</td>\n",
       "      <td>0.0</td>\n",
       "      <td>87.58</td>\n",
       "      <td>10.5</td>\n",
       "      <td>blue-green</td>\n",
       "      <td>0</td>\n",
       "    </tr>\n",
       "    <tr>\n",
       "      <th>2</th>\n",
       "      <td>Laos</td>\n",
       "      <td>OKLAO coffee farms</td>\n",
       "      <td>1300</td>\n",
       "      <td>Laos Borofen Plateau</td>\n",
       "      <td>Java</td>\n",
       "      <td>Semi Washed</td>\n",
       "      <td>8.33</td>\n",
       "      <td>8.42</td>\n",
       "      <td>8.08</td>\n",
       "      <td>8.17</td>\n",
       "      <td>...</td>\n",
       "      <td>8.17</td>\n",
       "      <td>10.0</td>\n",
       "      <td>10.0</td>\n",
       "      <td>10.0</td>\n",
       "      <td>8.33</td>\n",
       "      <td>0.0</td>\n",
       "      <td>87.42</td>\n",
       "      <td>10.4</td>\n",
       "      <td>yellowish</td>\n",
       "      <td>2</td>\n",
       "    </tr>\n",
       "    <tr>\n",
       "      <th>3</th>\n",
       "      <td>Costa Rica</td>\n",
       "      <td>La Cumbre</td>\n",
       "      <td>1900</td>\n",
       "      <td>Los Santos,Tarrazu</td>\n",
       "      <td>Gesha</td>\n",
       "      <td>Washed / Wet</td>\n",
       "      <td>8.08</td>\n",
       "      <td>8.17</td>\n",
       "      <td>8.17</td>\n",
       "      <td>8.25</td>\n",
       "      <td>...</td>\n",
       "      <td>8.08</td>\n",
       "      <td>10.0</td>\n",
       "      <td>10.0</td>\n",
       "      <td>10.0</td>\n",
       "      <td>8.25</td>\n",
       "      <td>0.0</td>\n",
       "      <td>87.17</td>\n",
       "      <td>11.8</td>\n",
       "      <td>green</td>\n",
       "      <td>0</td>\n",
       "    </tr>\n",
       "    <tr>\n",
       "      <th>4</th>\n",
       "      <td>Colombia</td>\n",
       "      <td>Finca Santuario</td>\n",
       "      <td>1850-2100</td>\n",
       "      <td>Popayan,Cauca</td>\n",
       "      <td>Red Bourbon</td>\n",
       "      <td>Honey,Mossto</td>\n",
       "      <td>8.33</td>\n",
       "      <td>8.33</td>\n",
       "      <td>8.08</td>\n",
       "      <td>8.25</td>\n",
       "      <td>...</td>\n",
       "      <td>7.92</td>\n",
       "      <td>10.0</td>\n",
       "      <td>10.0</td>\n",
       "      <td>10.0</td>\n",
       "      <td>8.25</td>\n",
       "      <td>0.0</td>\n",
       "      <td>87.08</td>\n",
       "      <td>11.6</td>\n",
       "      <td>yellow-green</td>\n",
       "      <td>2</td>\n",
       "    </tr>\n",
       "    <tr>\n",
       "      <th>...</th>\n",
       "      <td>...</td>\n",
       "      <td>...</td>\n",
       "      <td>...</td>\n",
       "      <td>...</td>\n",
       "      <td>...</td>\n",
       "      <td>...</td>\n",
       "      <td>...</td>\n",
       "      <td>...</td>\n",
       "      <td>...</td>\n",
       "      <td>...</td>\n",
       "      <td>...</td>\n",
       "      <td>...</td>\n",
       "      <td>...</td>\n",
       "      <td>...</td>\n",
       "      <td>...</td>\n",
       "      <td>...</td>\n",
       "      <td>...</td>\n",
       "      <td>...</td>\n",
       "      <td>...</td>\n",
       "      <td>...</td>\n",
       "      <td>...</td>\n",
       "    </tr>\n",
       "    <tr>\n",
       "      <th>202</th>\n",
       "      <td>Brazil</td>\n",
       "      <td>Fazenda Conquista</td>\n",
       "      <td>950</td>\n",
       "      <td>Sul de Minas</td>\n",
       "      <td>Mundo Novo</td>\n",
       "      <td>Natural / Dry</td>\n",
       "      <td>7.17</td>\n",
       "      <td>7.17</td>\n",
       "      <td>6.92</td>\n",
       "      <td>7.17</td>\n",
       "      <td>...</td>\n",
       "      <td>7.17</td>\n",
       "      <td>10.0</td>\n",
       "      <td>10.0</td>\n",
       "      <td>10.0</td>\n",
       "      <td>7.08</td>\n",
       "      <td>0.0</td>\n",
       "      <td>80.08</td>\n",
       "      <td>11.4</td>\n",
       "      <td>green</td>\n",
       "      <td>4</td>\n",
       "    </tr>\n",
       "    <tr>\n",
       "      <th>203</th>\n",
       "      <td>Nicaragua</td>\n",
       "      <td>Finca San Felipe</td>\n",
       "      <td>1200</td>\n",
       "      <td>Matagalpa</td>\n",
       "      <td>SHG</td>\n",
       "      <td>Natural / Dry</td>\n",
       "      <td>7.33</td>\n",
       "      <td>7.08</td>\n",
       "      <td>6.75</td>\n",
       "      <td>7.17</td>\n",
       "      <td>...</td>\n",
       "      <td>7.17</td>\n",
       "      <td>10.0</td>\n",
       "      <td>10.0</td>\n",
       "      <td>10.0</td>\n",
       "      <td>7.08</td>\n",
       "      <td>0.0</td>\n",
       "      <td>80.00</td>\n",
       "      <td>10.4</td>\n",
       "      <td>green</td>\n",
       "      <td>12</td>\n",
       "    </tr>\n",
       "    <tr>\n",
       "      <th>204</th>\n",
       "      <td>Laos</td>\n",
       "      <td>-</td>\n",
       "      <td>1300</td>\n",
       "      <td>Bolaven Plateau</td>\n",
       "      <td>Catimor</td>\n",
       "      <td>Washed / Wet</td>\n",
       "      <td>7.25</td>\n",
       "      <td>7.17</td>\n",
       "      <td>7.08</td>\n",
       "      <td>7.00</td>\n",
       "      <td>...</td>\n",
       "      <td>7.08</td>\n",
       "      <td>10.0</td>\n",
       "      <td>10.0</td>\n",
       "      <td>10.0</td>\n",
       "      <td>7.00</td>\n",
       "      <td>0.0</td>\n",
       "      <td>79.67</td>\n",
       "      <td>11.6</td>\n",
       "      <td>green</td>\n",
       "      <td>11</td>\n",
       "    </tr>\n",
       "    <tr>\n",
       "      <th>205</th>\n",
       "      <td>El Salvador</td>\n",
       "      <td>Rosario de Maria II, Area de La Pila</td>\n",
       "      <td>1200</td>\n",
       "      <td>Volcan de San Vicente, La Paz, El Salvador</td>\n",
       "      <td>Maragogype</td>\n",
       "      <td>Natural / Dry</td>\n",
       "      <td>6.50</td>\n",
       "      <td>6.75</td>\n",
       "      <td>6.75</td>\n",
       "      <td>7.17</td>\n",
       "      <td>...</td>\n",
       "      <td>7.00</td>\n",
       "      <td>10.0</td>\n",
       "      <td>10.0</td>\n",
       "      <td>10.0</td>\n",
       "      <td>6.83</td>\n",
       "      <td>0.0</td>\n",
       "      <td>78.08</td>\n",
       "      <td>11.0</td>\n",
       "      <td>bluish-green</td>\n",
       "      <td>13</td>\n",
       "    </tr>\n",
       "    <tr>\n",
       "      <th>206</th>\n",
       "      <td>Brazil</td>\n",
       "      <td>Walter Matter</td>\n",
       "      <td>850-1100</td>\n",
       "      <td>Minas Gerais</td>\n",
       "      <td>Mundo Novo</td>\n",
       "      <td>SEMI-LAVADO</td>\n",
       "      <td>7.25</td>\n",
       "      <td>7.08</td>\n",
       "      <td>6.67</td>\n",
       "      <td>6.83</td>\n",
       "      <td>...</td>\n",
       "      <td>6.67</td>\n",
       "      <td>10.0</td>\n",
       "      <td>10.0</td>\n",
       "      <td>10.0</td>\n",
       "      <td>6.67</td>\n",
       "      <td>0.0</td>\n",
       "      <td>78.00</td>\n",
       "      <td>11.3</td>\n",
       "      <td>green</td>\n",
       "      <td>1</td>\n",
       "    </tr>\n",
       "  </tbody>\n",
       "</table>\n",
       "<p>196 rows × 21 columns</p>\n",
       "</div>"
      ],
      "text/plain": [
       "    Country of Origin                             Farm Name   Altitude  \\\n",
       "ID                                                                       \n",
       "0            Colombia                      Finca El Paraiso  1700-1930   \n",
       "1              Taiwan              Royal Bean Geisha Estate       1200   \n",
       "2                Laos                    OKLAO coffee farms       1300   \n",
       "3          Costa Rica                             La Cumbre       1900   \n",
       "4            Colombia                       Finca Santuario  1850-2100   \n",
       "..                ...                                   ...        ...   \n",
       "202            Brazil                     Fazenda Conquista        950   \n",
       "203         Nicaragua                      Finca San Felipe       1200   \n",
       "204              Laos                                     -       1300   \n",
       "205       El Salvador  Rosario de Maria II, Area de La Pila       1200   \n",
       "206            Brazil                         Walter Matter   850-1100   \n",
       "\n",
       "                                         Region      Variety  \\\n",
       "ID                                                             \n",
       "0                                Piendamo,Cauca     Castillo   \n",
       "1                                        Chiayi        Gesha   \n",
       "2                          Laos Borofen Plateau         Java   \n",
       "3                            Los Santos,Tarrazu        Gesha   \n",
       "4                                 Popayan,Cauca  Red Bourbon   \n",
       "..                                          ...          ...   \n",
       "202                                Sul de Minas   Mundo Novo   \n",
       "203                                   Matagalpa          SHG   \n",
       "204                             Bolaven Plateau      Catimor   \n",
       "205  Volcan de San Vicente, La Paz, El Salvador   Maragogype   \n",
       "206                                Minas Gerais   Mundo Novo   \n",
       "\n",
       "           Processing Method  Aroma  Flavor  Aftertaste  Acidity  ...  \\\n",
       "ID                                                                ...   \n",
       "0    Double Anaerobic Washed   8.58    8.50        8.42     8.58  ...   \n",
       "1               Washed / Wet   8.50    8.50        7.92     8.00  ...   \n",
       "2                Semi Washed   8.33    8.42        8.08     8.17  ...   \n",
       "3               Washed / Wet   8.08    8.17        8.17     8.25  ...   \n",
       "4               Honey,Mossto   8.33    8.33        8.08     8.25  ...   \n",
       "..                       ...    ...     ...         ...      ...  ...   \n",
       "202            Natural / Dry   7.17    7.17        6.92     7.17  ...   \n",
       "203            Natural / Dry   7.33    7.08        6.75     7.17  ...   \n",
       "204             Washed / Wet   7.25    7.17        7.08     7.00  ...   \n",
       "205            Natural / Dry   6.50    6.75        6.75     7.17  ...   \n",
       "206              SEMI-LAVADO   7.25    7.08        6.67     6.83  ...   \n",
       "\n",
       "     Balance  Uniformity  Clean Cup  Sweetness  Overall  Defects  \\\n",
       "ID                                                                 \n",
       "0       8.42        10.0       10.0       10.0     8.58      0.0   \n",
       "1       8.25        10.0       10.0       10.0     8.50      0.0   \n",
       "2       8.17        10.0       10.0       10.0     8.33      0.0   \n",
       "3       8.08        10.0       10.0       10.0     8.25      0.0   \n",
       "4       7.92        10.0       10.0       10.0     8.25      0.0   \n",
       "..       ...         ...        ...        ...      ...      ...   \n",
       "202     7.17        10.0       10.0       10.0     7.08      0.0   \n",
       "203     7.17        10.0       10.0       10.0     7.08      0.0   \n",
       "204     7.08        10.0       10.0       10.0     7.00      0.0   \n",
       "205     7.00        10.0       10.0       10.0     6.83      0.0   \n",
       "206     6.67        10.0       10.0       10.0     6.67      0.0   \n",
       "\n",
       "     Total Cup Points  Moisture Percentage         Color Category Two Defects  \n",
       "ID                                                                             \n",
       "0               89.33                 11.8         green                    3  \n",
       "1               87.58                 10.5    blue-green                    0  \n",
       "2               87.42                 10.4     yellowish                    2  \n",
       "3               87.17                 11.8         green                    0  \n",
       "4               87.08                 11.6  yellow-green                    2  \n",
       "..                ...                  ...           ...                  ...  \n",
       "202             80.08                 11.4         green                    4  \n",
       "203             80.00                 10.4         green                   12  \n",
       "204             79.67                 11.6         green                   11  \n",
       "205             78.08                 11.0  bluish-green                   13  \n",
       "206             78.00                 11.3         green                    1  \n",
       "\n",
       "[196 rows x 21 columns]"
      ]
     },
     "execution_count": 50,
     "metadata": {},
     "output_type": "execute_result"
    }
   ],
   "source": [
    "columns_to_drop = ['Unnamed: 0', 'Company', 'Owner', 'Producer', 'In-Country Partner', 'Lot Number', 'Quakers', 'Category One Defects', 'Mill', 'ICO Number', 'Number of Bags', 'Bag Weight', 'Harvest Year', 'Grading Date', 'Status', 'Expiration', 'Certification Body', 'Certification Address', 'Certification Contact']\n",
    "df = df.drop(columns_to_drop, axis=1)\n",
    "df = df.dropna()\n",
    "df"
   ]
  },
  {
   "cell_type": "code",
   "execution_count": 105,
   "id": "80ad45d5",
   "metadata": {},
   "outputs": [
    {
     "data": {
      "text/html": [
       "<div>\n",
       "<style scoped>\n",
       "    .dataframe tbody tr th:only-of-type {\n",
       "        vertical-align: middle;\n",
       "    }\n",
       "\n",
       "    .dataframe tbody tr th {\n",
       "        vertical-align: top;\n",
       "    }\n",
       "\n",
       "    .dataframe thead th {\n",
       "        text-align: right;\n",
       "    }\n",
       "</style>\n",
       "<table border=\"1\" class=\"dataframe\">\n",
       "  <thead>\n",
       "    <tr style=\"text-align: right;\">\n",
       "      <th></th>\n",
       "      <th>Country of Origin</th>\n",
       "      <th>Farm Name</th>\n",
       "      <th>Altitude</th>\n",
       "      <th>Region</th>\n",
       "      <th>Variety</th>\n",
       "      <th>Processing Method</th>\n",
       "      <th>Aroma</th>\n",
       "      <th>Flavor</th>\n",
       "      <th>Aftertaste</th>\n",
       "      <th>Acidity</th>\n",
       "      <th>...</th>\n",
       "      <th>Balance</th>\n",
       "      <th>Uniformity</th>\n",
       "      <th>Clean Cup</th>\n",
       "      <th>Sweetness</th>\n",
       "      <th>Overall</th>\n",
       "      <th>Defects</th>\n",
       "      <th>Total Cup Points</th>\n",
       "      <th>Moisture Percentage</th>\n",
       "      <th>Color</th>\n",
       "      <th>Category Two Defects</th>\n",
       "    </tr>\n",
       "    <tr>\n",
       "      <th>ID</th>\n",
       "      <th></th>\n",
       "      <th></th>\n",
       "      <th></th>\n",
       "      <th></th>\n",
       "      <th></th>\n",
       "      <th></th>\n",
       "      <th></th>\n",
       "      <th></th>\n",
       "      <th></th>\n",
       "      <th></th>\n",
       "      <th></th>\n",
       "      <th></th>\n",
       "      <th></th>\n",
       "      <th></th>\n",
       "      <th></th>\n",
       "      <th></th>\n",
       "      <th></th>\n",
       "      <th></th>\n",
       "      <th></th>\n",
       "      <th></th>\n",
       "      <th></th>\n",
       "    </tr>\n",
       "  </thead>\n",
       "  <tbody>\n",
       "    <tr>\n",
       "      <th>180</th>\n",
       "      <td>Guatemala</td>\n",
       "      <td>MULTIPLE SMALLHOLDER FARMS</td>\n",
       "      <td>1200~1600</td>\n",
       "      <td>Antigua</td>\n",
       "      <td>Caturra</td>\n",
       "      <td>Washed / Wet</td>\n",
       "      <td>7.33</td>\n",
       "      <td>7.42</td>\n",
       "      <td>7.33</td>\n",
       "      <td>7.42</td>\n",
       "      <td>...</td>\n",
       "      <td>7.42</td>\n",
       "      <td>10.0</td>\n",
       "      <td>10.0</td>\n",
       "      <td>10.0</td>\n",
       "      <td>7.42</td>\n",
       "      <td>0.0</td>\n",
       "      <td>81.92</td>\n",
       "      <td>10.3</td>\n",
       "      <td>greenish</td>\n",
       "      <td>1</td>\n",
       "    </tr>\n",
       "  </tbody>\n",
       "</table>\n",
       "<p>1 rows × 21 columns</p>\n",
       "</div>"
      ],
      "text/plain": [
       "    Country of Origin                   Farm Name   Altitude   Region  \\\n",
       "ID                                                                      \n",
       "180         Guatemala  MULTIPLE SMALLHOLDER FARMS  1200~1600  Antigua   \n",
       "\n",
       "     Variety Processing Method  Aroma  Flavor  Aftertaste  Acidity  ...  \\\n",
       "ID                                                                  ...   \n",
       "180  Caturra      Washed / Wet   7.33    7.42        7.33     7.42  ...   \n",
       "\n",
       "     Balance  Uniformity  Clean Cup  Sweetness  Overall  Defects  \\\n",
       "ID                                                                 \n",
       "180     7.42        10.0       10.0       10.0     7.42      0.0   \n",
       "\n",
       "     Total Cup Points  Moisture Percentage     Color Category Two Defects  \n",
       "ID                                                                         \n",
       "180             81.92                 10.3  greenish                    1  \n",
       "\n",
       "[1 rows x 21 columns]"
      ]
     },
     "execution_count": 105,
     "metadata": {},
     "output_type": "execute_result"
    }
   ],
   "source": [
    "df[df['Altitude'] == '1200~1600']"
   ]
  },
  {
   "cell_type": "code",
   "execution_count": 106,
   "id": "4d84ac1c",
   "metadata": {},
   "outputs": [],
   "source": [
    "df = df.drop(180) "
   ]
  },
  {
   "cell_type": "code",
   "execution_count": 107,
   "id": "baf56409",
   "metadata": {},
   "outputs": [],
   "source": [
    "for index, altitude in df['Altitude'].items():\n",
    "    if isinstance(altitude, str) and '-' in altitude:\n",
    "        new_altitude = altitude.replace(' ', '').split('-')\n",
    "        new_altitude = sum(int(k) for k in new_altitude)/len(new_altitude)\n",
    "        df.at[index, 'Altitude'] = new_altitude\n",
    "    elif isinstance(altitude, str):\n",
    "        new_altitude = float(altitude)\n",
    "        df.at[index, 'Altitude'] = new_altitude"
   ]
  },
  {
   "cell_type": "code",
   "execution_count": 109,
   "id": "9023c694",
   "metadata": {},
   "outputs": [
    {
     "data": {
      "text/html": [
       "<div>\n",
       "<style scoped>\n",
       "    .dataframe tbody tr th:only-of-type {\n",
       "        vertical-align: middle;\n",
       "    }\n",
       "\n",
       "    .dataframe tbody tr th {\n",
       "        vertical-align: top;\n",
       "    }\n",
       "\n",
       "    .dataframe thead th {\n",
       "        text-align: right;\n",
       "    }\n",
       "</style>\n",
       "<table border=\"1\" class=\"dataframe\">\n",
       "  <thead>\n",
       "    <tr style=\"text-align: right;\">\n",
       "      <th></th>\n",
       "      <th>Country of Origin</th>\n",
       "      <th>Farm Name</th>\n",
       "      <th>Altitude</th>\n",
       "      <th>Region</th>\n",
       "      <th>Variety</th>\n",
       "      <th>Processing Method</th>\n",
       "      <th>Aroma</th>\n",
       "      <th>Flavor</th>\n",
       "      <th>Aftertaste</th>\n",
       "      <th>Acidity</th>\n",
       "      <th>...</th>\n",
       "      <th>Balance</th>\n",
       "      <th>Uniformity</th>\n",
       "      <th>Clean Cup</th>\n",
       "      <th>Sweetness</th>\n",
       "      <th>Overall</th>\n",
       "      <th>Defects</th>\n",
       "      <th>Total Cup Points</th>\n",
       "      <th>Moisture Percentage</th>\n",
       "      <th>Color</th>\n",
       "      <th>Category Two Defects</th>\n",
       "    </tr>\n",
       "    <tr>\n",
       "      <th>ID</th>\n",
       "      <th></th>\n",
       "      <th></th>\n",
       "      <th></th>\n",
       "      <th></th>\n",
       "      <th></th>\n",
       "      <th></th>\n",
       "      <th></th>\n",
       "      <th></th>\n",
       "      <th></th>\n",
       "      <th></th>\n",
       "      <th></th>\n",
       "      <th></th>\n",
       "      <th></th>\n",
       "      <th></th>\n",
       "      <th></th>\n",
       "      <th></th>\n",
       "      <th></th>\n",
       "      <th></th>\n",
       "      <th></th>\n",
       "      <th></th>\n",
       "      <th></th>\n",
       "    </tr>\n",
       "  </thead>\n",
       "  <tbody>\n",
       "    <tr>\n",
       "      <th>0</th>\n",
       "      <td>Colombia</td>\n",
       "      <td>Finca El Paraiso</td>\n",
       "      <td>1815.0</td>\n",
       "      <td>Piendamo,Cauca</td>\n",
       "      <td>Castillo</td>\n",
       "      <td>Double Anaerobic Washed</td>\n",
       "      <td>8.58</td>\n",
       "      <td>8.50</td>\n",
       "      <td>8.42</td>\n",
       "      <td>8.58</td>\n",
       "      <td>...</td>\n",
       "      <td>8.42</td>\n",
       "      <td>10.0</td>\n",
       "      <td>10.0</td>\n",
       "      <td>10.0</td>\n",
       "      <td>8.58</td>\n",
       "      <td>0.0</td>\n",
       "      <td>89.33</td>\n",
       "      <td>11.8</td>\n",
       "      <td>green</td>\n",
       "      <td>3</td>\n",
       "    </tr>\n",
       "    <tr>\n",
       "      <th>1</th>\n",
       "      <td>Taiwan</td>\n",
       "      <td>Royal Bean Geisha Estate</td>\n",
       "      <td>1200.0</td>\n",
       "      <td>Chiayi</td>\n",
       "      <td>Gesha</td>\n",
       "      <td>Washed / Wet</td>\n",
       "      <td>8.50</td>\n",
       "      <td>8.50</td>\n",
       "      <td>7.92</td>\n",
       "      <td>8.00</td>\n",
       "      <td>...</td>\n",
       "      <td>8.25</td>\n",
       "      <td>10.0</td>\n",
       "      <td>10.0</td>\n",
       "      <td>10.0</td>\n",
       "      <td>8.50</td>\n",
       "      <td>0.0</td>\n",
       "      <td>87.58</td>\n",
       "      <td>10.5</td>\n",
       "      <td>blue-green</td>\n",
       "      <td>0</td>\n",
       "    </tr>\n",
       "    <tr>\n",
       "      <th>2</th>\n",
       "      <td>Laos</td>\n",
       "      <td>OKLAO coffee farms</td>\n",
       "      <td>1300.0</td>\n",
       "      <td>Laos Borofen Plateau</td>\n",
       "      <td>Java</td>\n",
       "      <td>Semi Washed</td>\n",
       "      <td>8.33</td>\n",
       "      <td>8.42</td>\n",
       "      <td>8.08</td>\n",
       "      <td>8.17</td>\n",
       "      <td>...</td>\n",
       "      <td>8.17</td>\n",
       "      <td>10.0</td>\n",
       "      <td>10.0</td>\n",
       "      <td>10.0</td>\n",
       "      <td>8.33</td>\n",
       "      <td>0.0</td>\n",
       "      <td>87.42</td>\n",
       "      <td>10.4</td>\n",
       "      <td>yellowish</td>\n",
       "      <td>2</td>\n",
       "    </tr>\n",
       "    <tr>\n",
       "      <th>3</th>\n",
       "      <td>Costa Rica</td>\n",
       "      <td>La Cumbre</td>\n",
       "      <td>1900.0</td>\n",
       "      <td>Los Santos,Tarrazu</td>\n",
       "      <td>Gesha</td>\n",
       "      <td>Washed / Wet</td>\n",
       "      <td>8.08</td>\n",
       "      <td>8.17</td>\n",
       "      <td>8.17</td>\n",
       "      <td>8.25</td>\n",
       "      <td>...</td>\n",
       "      <td>8.08</td>\n",
       "      <td>10.0</td>\n",
       "      <td>10.0</td>\n",
       "      <td>10.0</td>\n",
       "      <td>8.25</td>\n",
       "      <td>0.0</td>\n",
       "      <td>87.17</td>\n",
       "      <td>11.8</td>\n",
       "      <td>green</td>\n",
       "      <td>0</td>\n",
       "    </tr>\n",
       "    <tr>\n",
       "      <th>4</th>\n",
       "      <td>Colombia</td>\n",
       "      <td>Finca Santuario</td>\n",
       "      <td>1975.0</td>\n",
       "      <td>Popayan,Cauca</td>\n",
       "      <td>Red Bourbon</td>\n",
       "      <td>Honey,Mossto</td>\n",
       "      <td>8.33</td>\n",
       "      <td>8.33</td>\n",
       "      <td>8.08</td>\n",
       "      <td>8.25</td>\n",
       "      <td>...</td>\n",
       "      <td>7.92</td>\n",
       "      <td>10.0</td>\n",
       "      <td>10.0</td>\n",
       "      <td>10.0</td>\n",
       "      <td>8.25</td>\n",
       "      <td>0.0</td>\n",
       "      <td>87.08</td>\n",
       "      <td>11.6</td>\n",
       "      <td>yellow-green</td>\n",
       "      <td>2</td>\n",
       "    </tr>\n",
       "  </tbody>\n",
       "</table>\n",
       "<p>5 rows × 21 columns</p>\n",
       "</div>"
      ],
      "text/plain": [
       "   Country of Origin                 Farm Name Altitude                Region  \\\n",
       "ID                                                                              \n",
       "0           Colombia          Finca El Paraiso   1815.0        Piendamo,Cauca   \n",
       "1             Taiwan  Royal Bean Geisha Estate   1200.0                Chiayi   \n",
       "2               Laos        OKLAO coffee farms   1300.0  Laos Borofen Plateau   \n",
       "3         Costa Rica                 La Cumbre   1900.0    Los Santos,Tarrazu   \n",
       "4           Colombia           Finca Santuario   1975.0         Popayan,Cauca   \n",
       "\n",
       "        Variety        Processing Method  Aroma  Flavor  Aftertaste  Acidity  \\\n",
       "ID                                                                             \n",
       "0      Castillo  Double Anaerobic Washed   8.58    8.50        8.42     8.58   \n",
       "1         Gesha             Washed / Wet   8.50    8.50        7.92     8.00   \n",
       "2          Java              Semi Washed   8.33    8.42        8.08     8.17   \n",
       "3         Gesha             Washed / Wet   8.08    8.17        8.17     8.25   \n",
       "4   Red Bourbon             Honey,Mossto   8.33    8.33        8.08     8.25   \n",
       "\n",
       "    ...  Balance  Uniformity  Clean Cup  Sweetness  Overall  Defects  \\\n",
       "ID  ...                                                                \n",
       "0   ...     8.42        10.0       10.0       10.0     8.58      0.0   \n",
       "1   ...     8.25        10.0       10.0       10.0     8.50      0.0   \n",
       "2   ...     8.17        10.0       10.0       10.0     8.33      0.0   \n",
       "3   ...     8.08        10.0       10.0       10.0     8.25      0.0   \n",
       "4   ...     7.92        10.0       10.0       10.0     8.25      0.0   \n",
       "\n",
       "    Total Cup Points  Moisture Percentage         Color Category Two Defects  \n",
       "ID                                                                            \n",
       "0              89.33                 11.8         green                    3  \n",
       "1              87.58                 10.5    blue-green                    0  \n",
       "2              87.42                 10.4     yellowish                    2  \n",
       "3              87.17                 11.8         green                    0  \n",
       "4              87.08                 11.6  yellow-green                    2  \n",
       "\n",
       "[5 rows x 21 columns]"
      ]
     },
     "execution_count": 109,
     "metadata": {},
     "output_type": "execute_result"
    }
   ],
   "source": [
    "df.head()"
   ]
  },
  {
   "cell_type": "code",
   "execution_count": 121,
   "id": "4fc3305e",
   "metadata": {
    "scrolled": true
   },
   "outputs": [
    {
     "ename": "AttributeError",
     "evalue": "'float' object has no attribute 'shape'",
     "output_type": "error",
     "traceback": [
      "\u001b[0;31m---------------------------------------------------------------------------\u001b[0m",
      "\u001b[0;31mAttributeError\u001b[0m                            Traceback (most recent call last)",
      "Cell \u001b[0;32mIn[121], line 1\u001b[0m\n\u001b[0;32m----> 1\u001b[0m correlation \u001b[38;5;241m=\u001b[39m \u001b[43mdf\u001b[49m\u001b[43m[\u001b[49m\u001b[38;5;124;43m'\u001b[39;49m\u001b[38;5;124;43mAltitude\u001b[39;49m\u001b[38;5;124;43m'\u001b[39;49m\u001b[43m]\u001b[49m\u001b[38;5;241;43m.\u001b[39;49m\u001b[43mcorr\u001b[49m\u001b[43m(\u001b[49m\u001b[43mdf\u001b[49m\u001b[43m[\u001b[49m\u001b[38;5;124;43m'\u001b[39;49m\u001b[38;5;124;43mTotal Cup Points\u001b[39;49m\u001b[38;5;124;43m'\u001b[39;49m\u001b[43m]\u001b[49m\u001b[43m)\u001b[49m\n",
      "File \u001b[0;32m~/anaconda3/lib/python3.10/site-packages/pandas/core/series.py:2760\u001b[0m, in \u001b[0;36mSeries.corr\u001b[0;34m(self, other, method, min_periods)\u001b[0m\n\u001b[1;32m   2757\u001b[0m     \u001b[38;5;28;01mreturn\u001b[39;00m np\u001b[38;5;241m.\u001b[39mnan\n\u001b[1;32m   2759\u001b[0m \u001b[38;5;28;01mif\u001b[39;00m method \u001b[38;5;129;01min\u001b[39;00m [\u001b[38;5;124m\"\u001b[39m\u001b[38;5;124mpearson\u001b[39m\u001b[38;5;124m\"\u001b[39m, \u001b[38;5;124m\"\u001b[39m\u001b[38;5;124mspearman\u001b[39m\u001b[38;5;124m\"\u001b[39m, \u001b[38;5;124m\"\u001b[39m\u001b[38;5;124mkendall\u001b[39m\u001b[38;5;124m\"\u001b[39m] \u001b[38;5;129;01mor\u001b[39;00m callable(method):\n\u001b[0;32m-> 2760\u001b[0m     \u001b[38;5;28;01mreturn\u001b[39;00m \u001b[43mnanops\u001b[49m\u001b[38;5;241;43m.\u001b[39;49m\u001b[43mnancorr\u001b[49m\u001b[43m(\u001b[49m\n\u001b[1;32m   2761\u001b[0m \u001b[43m        \u001b[49m\u001b[43mthis\u001b[49m\u001b[38;5;241;43m.\u001b[39;49m\u001b[43mvalues\u001b[49m\u001b[43m,\u001b[49m\u001b[43m \u001b[49m\u001b[43mother\u001b[49m\u001b[38;5;241;43m.\u001b[39;49m\u001b[43mvalues\u001b[49m\u001b[43m,\u001b[49m\u001b[43m \u001b[49m\u001b[43mmethod\u001b[49m\u001b[38;5;241;43m=\u001b[39;49m\u001b[43mmethod\u001b[49m\u001b[43m,\u001b[49m\u001b[43m \u001b[49m\u001b[43mmin_periods\u001b[49m\u001b[38;5;241;43m=\u001b[39;49m\u001b[43mmin_periods\u001b[49m\n\u001b[1;32m   2762\u001b[0m \u001b[43m    \u001b[49m\u001b[43m)\u001b[49m\n\u001b[1;32m   2764\u001b[0m \u001b[38;5;28;01mraise\u001b[39;00m \u001b[38;5;167;01mValueError\u001b[39;00m(\n\u001b[1;32m   2765\u001b[0m     \u001b[38;5;124m\"\u001b[39m\u001b[38;5;124mmethod must be either \u001b[39m\u001b[38;5;124m'\u001b[39m\u001b[38;5;124mpearson\u001b[39m\u001b[38;5;124m'\u001b[39m\u001b[38;5;124m, \u001b[39m\u001b[38;5;124m\"\u001b[39m\n\u001b[1;32m   2766\u001b[0m     \u001b[38;5;124m\"\u001b[39m\u001b[38;5;124m'\u001b[39m\u001b[38;5;124mspearman\u001b[39m\u001b[38;5;124m'\u001b[39m\u001b[38;5;124m, \u001b[39m\u001b[38;5;124m'\u001b[39m\u001b[38;5;124mkendall\u001b[39m\u001b[38;5;124m'\u001b[39m\u001b[38;5;124m, or a callable, \u001b[39m\u001b[38;5;124m\"\u001b[39m\n\u001b[1;32m   2767\u001b[0m     \u001b[38;5;124mf\u001b[39m\u001b[38;5;124m\"\u001b[39m\u001b[38;5;124m'\u001b[39m\u001b[38;5;132;01m{\u001b[39;00mmethod\u001b[38;5;132;01m}\u001b[39;00m\u001b[38;5;124m'\u001b[39m\u001b[38;5;124m was supplied\u001b[39m\u001b[38;5;124m\"\u001b[39m\n\u001b[1;32m   2768\u001b[0m )\n",
      "File \u001b[0;32m~/anaconda3/lib/python3.10/site-packages/pandas/core/nanops.py:93\u001b[0m, in \u001b[0;36mdisallow.__call__.<locals>._f\u001b[0;34m(*args, **kwargs)\u001b[0m\n\u001b[1;32m     91\u001b[0m \u001b[38;5;28;01mtry\u001b[39;00m:\n\u001b[1;32m     92\u001b[0m     \u001b[38;5;28;01mwith\u001b[39;00m np\u001b[38;5;241m.\u001b[39merrstate(invalid\u001b[38;5;241m=\u001b[39m\u001b[38;5;124m\"\u001b[39m\u001b[38;5;124mignore\u001b[39m\u001b[38;5;124m\"\u001b[39m):\n\u001b[0;32m---> 93\u001b[0m         \u001b[38;5;28;01mreturn\u001b[39;00m \u001b[43mf\u001b[49m\u001b[43m(\u001b[49m\u001b[38;5;241;43m*\u001b[39;49m\u001b[43margs\u001b[49m\u001b[43m,\u001b[49m\u001b[43m \u001b[49m\u001b[38;5;241;43m*\u001b[39;49m\u001b[38;5;241;43m*\u001b[39;49m\u001b[43mkwargs\u001b[49m\u001b[43m)\u001b[49m\n\u001b[1;32m     94\u001b[0m \u001b[38;5;28;01mexcept\u001b[39;00m \u001b[38;5;167;01mValueError\u001b[39;00m \u001b[38;5;28;01mas\u001b[39;00m e:\n\u001b[1;32m     95\u001b[0m     \u001b[38;5;66;03m# we want to transform an object array\u001b[39;00m\n\u001b[1;32m     96\u001b[0m     \u001b[38;5;66;03m# ValueError message to the more typical TypeError\u001b[39;00m\n\u001b[1;32m     97\u001b[0m     \u001b[38;5;66;03m# e.g. this is normally a disallowed function on\u001b[39;00m\n\u001b[1;32m     98\u001b[0m     \u001b[38;5;66;03m# object arrays that contain strings\u001b[39;00m\n\u001b[1;32m     99\u001b[0m     \u001b[38;5;28;01mif\u001b[39;00m is_object_dtype(args[\u001b[38;5;241m0\u001b[39m]):\n",
      "File \u001b[0;32m~/anaconda3/lib/python3.10/site-packages/pandas/core/nanops.py:1554\u001b[0m, in \u001b[0;36mnancorr\u001b[0;34m(a, b, method, min_periods)\u001b[0m\n\u001b[1;32m   1551\u001b[0m     \u001b[38;5;28;01mreturn\u001b[39;00m np\u001b[38;5;241m.\u001b[39mnan\n\u001b[1;32m   1553\u001b[0m f \u001b[38;5;241m=\u001b[39m get_corr_func(method)\n\u001b[0;32m-> 1554\u001b[0m \u001b[38;5;28;01mreturn\u001b[39;00m \u001b[43mf\u001b[49m\u001b[43m(\u001b[49m\u001b[43ma\u001b[49m\u001b[43m,\u001b[49m\u001b[43m \u001b[49m\u001b[43mb\u001b[49m\u001b[43m)\u001b[49m\n",
      "File \u001b[0;32m~/anaconda3/lib/python3.10/site-packages/pandas/core/nanops.py:1575\u001b[0m, in \u001b[0;36mget_corr_func.<locals>.func\u001b[0;34m(a, b)\u001b[0m\n\u001b[1;32m   1574\u001b[0m \u001b[38;5;28;01mdef\u001b[39;00m \u001b[38;5;21mfunc\u001b[39m(a, b):\n\u001b[0;32m-> 1575\u001b[0m     \u001b[38;5;28;01mreturn\u001b[39;00m \u001b[43mnp\u001b[49m\u001b[38;5;241;43m.\u001b[39;49m\u001b[43mcorrcoef\u001b[49m\u001b[43m(\u001b[49m\u001b[43ma\u001b[49m\u001b[43m,\u001b[49m\u001b[43m \u001b[49m\u001b[43mb\u001b[49m\u001b[43m)\u001b[49m[\u001b[38;5;241m0\u001b[39m, \u001b[38;5;241m1\u001b[39m]\n",
      "File \u001b[0;32m<__array_function__ internals>:180\u001b[0m, in \u001b[0;36mcorrcoef\u001b[0;34m(*args, **kwargs)\u001b[0m\n",
      "File \u001b[0;32m~/anaconda3/lib/python3.10/site-packages/numpy/lib/function_base.py:2845\u001b[0m, in \u001b[0;36mcorrcoef\u001b[0;34m(x, y, rowvar, bias, ddof, dtype)\u001b[0m\n\u001b[1;32m   2841\u001b[0m \u001b[38;5;28;01mif\u001b[39;00m bias \u001b[38;5;129;01mis\u001b[39;00m \u001b[38;5;129;01mnot\u001b[39;00m np\u001b[38;5;241m.\u001b[39m_NoValue \u001b[38;5;129;01mor\u001b[39;00m ddof \u001b[38;5;129;01mis\u001b[39;00m \u001b[38;5;129;01mnot\u001b[39;00m np\u001b[38;5;241m.\u001b[39m_NoValue:\n\u001b[1;32m   2842\u001b[0m     \u001b[38;5;66;03m# 2015-03-15, 1.10\u001b[39;00m\n\u001b[1;32m   2843\u001b[0m     warnings\u001b[38;5;241m.\u001b[39mwarn(\u001b[38;5;124m'\u001b[39m\u001b[38;5;124mbias and ddof have no effect and are deprecated\u001b[39m\u001b[38;5;124m'\u001b[39m,\n\u001b[1;32m   2844\u001b[0m                   \u001b[38;5;167;01mDeprecationWarning\u001b[39;00m, stacklevel\u001b[38;5;241m=\u001b[39m\u001b[38;5;241m3\u001b[39m)\n\u001b[0;32m-> 2845\u001b[0m c \u001b[38;5;241m=\u001b[39m \u001b[43mcov\u001b[49m\u001b[43m(\u001b[49m\u001b[43mx\u001b[49m\u001b[43m,\u001b[49m\u001b[43m \u001b[49m\u001b[43my\u001b[49m\u001b[43m,\u001b[49m\u001b[43m \u001b[49m\u001b[43mrowvar\u001b[49m\u001b[43m,\u001b[49m\u001b[43m \u001b[49m\u001b[43mdtype\u001b[49m\u001b[38;5;241;43m=\u001b[39;49m\u001b[43mdtype\u001b[49m\u001b[43m)\u001b[49m\n\u001b[1;32m   2846\u001b[0m \u001b[38;5;28;01mtry\u001b[39;00m:\n\u001b[1;32m   2847\u001b[0m     d \u001b[38;5;241m=\u001b[39m diag(c)\n",
      "File \u001b[0;32m<__array_function__ internals>:180\u001b[0m, in \u001b[0;36mcov\u001b[0;34m(*args, **kwargs)\u001b[0m\n",
      "File \u001b[0;32m~/anaconda3/lib/python3.10/site-packages/numpy/lib/function_base.py:2680\u001b[0m, in \u001b[0;36mcov\u001b[0;34m(m, y, rowvar, bias, ddof, fweights, aweights, dtype)\u001b[0m\n\u001b[1;32m   2677\u001b[0m     \u001b[38;5;28;01melse\u001b[39;00m:\n\u001b[1;32m   2678\u001b[0m         w \u001b[38;5;241m*\u001b[39m\u001b[38;5;241m=\u001b[39m aweights\n\u001b[0;32m-> 2680\u001b[0m avg, w_sum \u001b[38;5;241m=\u001b[39m \u001b[43maverage\u001b[49m\u001b[43m(\u001b[49m\u001b[43mX\u001b[49m\u001b[43m,\u001b[49m\u001b[43m \u001b[49m\u001b[43maxis\u001b[49m\u001b[38;5;241;43m=\u001b[39;49m\u001b[38;5;241;43m1\u001b[39;49m\u001b[43m,\u001b[49m\u001b[43m \u001b[49m\u001b[43mweights\u001b[49m\u001b[38;5;241;43m=\u001b[39;49m\u001b[43mw\u001b[49m\u001b[43m,\u001b[49m\u001b[43m \u001b[49m\u001b[43mreturned\u001b[49m\u001b[38;5;241;43m=\u001b[39;49m\u001b[38;5;28;43;01mTrue\u001b[39;49;00m\u001b[43m)\u001b[49m\n\u001b[1;32m   2681\u001b[0m w_sum \u001b[38;5;241m=\u001b[39m w_sum[\u001b[38;5;241m0\u001b[39m]\n\u001b[1;32m   2683\u001b[0m \u001b[38;5;66;03m# Determine the normalization\u001b[39;00m\n",
      "File \u001b[0;32m<__array_function__ internals>:180\u001b[0m, in \u001b[0;36maverage\u001b[0;34m(*args, **kwargs)\u001b[0m\n",
      "File \u001b[0;32m~/anaconda3/lib/python3.10/site-packages/numpy/lib/function_base.py:554\u001b[0m, in \u001b[0;36maverage\u001b[0;34m(a, axis, weights, returned, keepdims)\u001b[0m\n\u001b[1;32m    550\u001b[0m     avg \u001b[38;5;241m=\u001b[39m np\u001b[38;5;241m.\u001b[39mmultiply(a, wgt,\n\u001b[1;32m    551\u001b[0m                       dtype\u001b[38;5;241m=\u001b[39mresult_dtype)\u001b[38;5;241m.\u001b[39msum(axis, \u001b[38;5;241m*\u001b[39m\u001b[38;5;241m*\u001b[39mkeepdims_kw) \u001b[38;5;241m/\u001b[39m scl\n\u001b[1;32m    553\u001b[0m \u001b[38;5;28;01mif\u001b[39;00m returned:\n\u001b[0;32m--> 554\u001b[0m     \u001b[38;5;28;01mif\u001b[39;00m \u001b[43mscl\u001b[49m\u001b[38;5;241;43m.\u001b[39;49m\u001b[43mshape\u001b[49m \u001b[38;5;241m!=\u001b[39m avg\u001b[38;5;241m.\u001b[39mshape:\n\u001b[1;32m    555\u001b[0m         scl \u001b[38;5;241m=\u001b[39m np\u001b[38;5;241m.\u001b[39mbroadcast_to(scl, avg\u001b[38;5;241m.\u001b[39mshape)\u001b[38;5;241m.\u001b[39mcopy()\n\u001b[1;32m    556\u001b[0m     \u001b[38;5;28;01mreturn\u001b[39;00m avg, scl\n",
      "\u001b[0;31mAttributeError\u001b[0m: 'float' object has no attribute 'shape'"
     ]
    }
   ],
   "source": [
    "correlation = df['Altitude'].corr(df['Total Cup Points'])"
   ]
  },
  {
   "cell_type": "markdown",
   "id": "5ecbe608",
   "metadata": {},
   "source": [
    "What are the coffee producing countries according to this database?"
   ]
  },
  {
   "cell_type": "code",
   "execution_count": 18,
   "id": "c07f3dba",
   "metadata": {
    "scrolled": true
   },
   "outputs": [
    {
     "name": "stdout",
     "output_type": "stream",
     "text": [
      "1. Colombia\n",
      "2. Taiwan\n",
      "3. Laos\n",
      "4. Costa Rica\n",
      "5. Guatemala\n",
      "6. Tanzania, United Republic Of\n",
      "7. Ethiopia\n",
      "8. Thailand\n",
      "9. Brazil\n",
      "10. United States (Hawaii)\n",
      "11. Kenya\n",
      "12. Uganda\n",
      "13. Indonesia\n",
      "14. Peru\n",
      "15. Panama\n",
      "16. Nicaragua\n",
      "17. Vietnam\n",
      "18. Honduras\n",
      "19. El Salvador\n",
      "20. Madagascar\n",
      "21. Mexico\n",
      "22. Myanmar\n"
     ]
    }
   ],
   "source": [
    "i = 1\n",
    "for country in df['Country of Origin'].unique():\n",
    "    print(str(i) + '. ' + country)\n",
    "    i += 1"
   ]
  },
  {
   "cell_type": "markdown",
   "id": "55a2e370",
   "metadata": {},
   "source": [
    "We have 22 countries from 5 continents. Quite some diveristy.\n",
    "\n",
    "### South America\n",
    "\n",
    "Colombia\n",
    "\n",
    "Brazil\n",
    "\n",
    "Peru\n",
    "\n",
    "### North America\n",
    "\n",
    "Costa Rica\n",
    "\n",
    "Guatemala\n",
    "\n",
    "Panama\n",
    "\n",
    "Nicaragua\n",
    "\n",
    "Honduras\n",
    "\n",
    "El Salvador\n",
    "\n",
    "Mexico\n",
    "    \n",
    "\n",
    "### Asia\n",
    "\n",
    "Taiwan\n",
    "\n",
    "Laos\n",
    "\n",
    "Thailand\n",
    "\n",
    "Vietnam\n",
    "\n",
    "Indonesia\n",
    "\n",
    "Myanmar\n",
    "\n",
    "### Africa\n",
    "\n",
    "Tanzania, United Republic Of\n",
    "\n",
    "Ethiopia\n",
    "\n",
    "Kenya\n",
    "\n",
    "Uganda\n",
    "\n",
    "Madagascar\n",
    "\n",
    "### Oceania\n",
    "Hawaii (United States)*\n",
    "\n",
    "*I have included Hawaii in Oceania as it is geographically in this region, even though it is politically part of North America"
   ]
  },
  {
   "cell_type": "markdown",
   "id": "9b16c14a",
   "metadata": {},
   "source": [
    "Adding in an additional column for continents."
   ]
  },
  {
   "cell_type": "code",
   "execution_count": 19,
   "id": "93b8a844",
   "metadata": {},
   "outputs": [],
   "source": [
    "country_to_continent = {\n",
    "    'Colombia': 'South America',\n",
    "    'Taiwan': 'Asia',\n",
    "    'Laos': 'Asia',\n",
    "    'Costa Rica': 'North America',\n",
    "    'Guatemala': 'North America',\n",
    "    'Tanzania, United Republic Of': 'Africa',\n",
    "    'Ethiopia': 'Africa',\n",
    "    'Thailand': 'Asia',\n",
    "    'Brazil': 'South America',\n",
    "    'United States (Hawaii)': 'Oceania',\n",
    "    'Kenya': 'Africa',\n",
    "    'Uganda': 'Africa',\n",
    "    'Indonesia': 'Asia',\n",
    "    'Peru': 'South America',\n",
    "    'Panama': 'North America',\n",
    "    'Nicaragua': 'North America',\n",
    "    'Vietnam': 'Asia',\n",
    "    'Honduras': 'North America',\n",
    "    'El Salvador': 'North America',\n",
    "    'Madagascar': 'Africa',\n",
    "    'Mexico': 'North America',\n",
    "    'Myanmar': 'Asia'\n",
    "}"
   ]
  },
  {
   "cell_type": "code",
   "execution_count": 20,
   "id": "de7ae35c",
   "metadata": {},
   "outputs": [],
   "source": [
    "df['Continent'] = df['Country of Origin'].map(country_to_continent)"
   ]
  },
  {
   "cell_type": "code",
   "execution_count": 38,
   "id": "4b70bed8",
   "metadata": {
    "scrolled": true
   },
   "outputs": [
    {
     "data": {
      "image/png": "[encoded data removed]",
      "text/plain": [
       "<Figure size 640x480 with 1 Axes>"
      ]
     },
     "metadata": {},
     "output_type": "display_data"
    }
   ],
   "source": [
    "plt.hist(df['Country of Origin'])\n",
    "plt.xticks(rotation=90, fontsize = 10)\n",
    "plt.show()"
   ]
  },
  {
   "cell_type": "markdown",
   "id": "5cc2be99",
   "metadata": {},
   "source": [
    "In this dataset, Colombia has the highest proportion of coffee farms in the world. This is interesting because globally, Brazil is the top producer of coffee. A testament to Colombian coffee culture."
   ]
  },
  {
   "cell_type": "markdown",
   "id": "07f4dca5",
   "metadata": {},
   "source": [
    "## ANALYSIS"
   ]
  },
  {
   "cell_type": "markdown",
   "id": "4cba6819",
   "metadata": {},
   "source": [
    "### Breakdown by Continent"
   ]
  },
  {
   "cell_type": "code",
   "execution_count": 23,
   "id": "da7b553f",
   "metadata": {
    "scrolled": true
   },
   "outputs": [
    {
     "data": {
      "text/plain": [
       "Continent\n",
       "Africa           84.626087\n",
       "Asia             83.997500\n",
       "Oceania          83.650000\n",
       "North America    83.306290\n",
       "South America    83.085758\n",
       "Name: Total Cup Points, dtype: float64"
      ]
     },
     "execution_count": 23,
     "metadata": {},
     "output_type": "execute_result"
    }
   ],
   "source": [
    "df.groupby('Continent').mean('Overall')['Total Cup Points'].sort_values(ascending=False)"
   ]
  },
  {
   "cell_type": "markdown",
   "id": "3b456940",
   "metadata": {},
   "source": [
    "Below a boxplot of coffee quality by continent."
   ]
  },
  {
   "cell_type": "code",
   "execution_count": 25,
   "id": "a3acb9b6",
   "metadata": {},
   "outputs": [
    {
     "data": {
      "image/png": "[encoded data removed]",
      "text/plain": [
       "<Figure size 640x480 with 1 Axes>"
      ]
     },
     "metadata": {},
     "output_type": "display_data"
    }
   ],
   "source": [
    "sns.boxplot(x='Continent', y='Total Cup Points', data=df)\n",
    "plt.title('Total Cup Points by Continent')\n",
    "plt.show()"
   ]
  },
  {
   "cell_type": "markdown",
   "id": "9acc2952",
   "metadata": {},
   "source": [
    "Here we see that there are a few outliers for the continents.\n",
    "\n",
    "In the data set, the single best coffee producing farm in the world is in South America - that giant outlier seen here. However, we see that the top continent overall is Africa, likely due its origins as the coffee bean originator.\n",
    "\n",
    "Other interesting notes are that South America simultaneously has the top coffee and close the worst coffee. The country with the worst coffee is Brazil. The data set suggests that it is a decaffeinated coffee using a semi-washed method. It is certainly an outlier as the other semi-washed coffees have a very high rating."
   ]
  },
  {
   "cell_type": "markdown",
   "id": "43cb8aef",
   "metadata": {},
   "source": [
    "### Breakdown by Country"
   ]
  },
  {
   "cell_type": "code",
   "execution_count": 26,
   "id": "d527fac2",
   "metadata": {
    "scrolled": true
   },
   "outputs": [
    {
     "data": {
      "text/plain": [
       "Country of Origin\n",
       "Ethiopia                        84.960909\n",
       "Tanzania, United Republic Of    84.735000\n",
       "Taiwan                          84.350328\n",
       "Guatemala                       84.301429\n",
       "Madagascar                      84.250000\n",
       "Uganda                          83.916667\n",
       "Colombia                        83.877368\n",
       "Costa Rica                      83.740000\n",
       "Kenya                           83.710000\n",
       "Indonesia                       83.693333\n",
       "Myanmar                         83.670000\n",
       "United States (Hawaii)          83.650000\n",
       "Panama                          83.625000\n",
       "Laos                            83.390000\n",
       "Honduras                        83.282308\n",
       "Vietnam                         82.892500\n",
       "Thailand                        82.827500\n",
       "Mexico                          82.710000\n",
       "Peru                            82.332500\n",
       "Nicaragua                       81.892857\n",
       "Brazil                          81.883000\n",
       "El Salvador                     81.532857\n",
       "Name: Total Cup Points, dtype: float64"
      ]
     },
     "execution_count": 26,
     "metadata": {},
     "output_type": "execute_result"
    }
   ],
   "source": [
    "df.groupby('Country of Origin').mean('Overall')['Total Cup Points'].sort_values(ascending=False)"
   ]
  },
  {
   "cell_type": "code",
   "execution_count": 27,
   "id": "95aac399",
   "metadata": {
    "scrolled": false
   },
   "outputs": [
    {
     "data": {
      "image/png": "[encoded data removed]",
      "text/plain": [
       "<Figure size 640x480 with 1 Axes>"
      ]
     },
     "metadata": {},
     "output_type": "display_data"
    }
   ],
   "source": [
    "sns.boxplot(x='Country of Origin', y='Total Cup Points', data=df)\n",
    "plt. title('Total Cup Points by Country')\n",
    "plt.xticks(rotation=90, fontsize = 10)  # Rotates the labels 45 degrees\n",
    "plt.show()"
   ]
  },
  {
   "cell_type": "markdown",
   "id": "55927a4e",
   "metadata": {},
   "source": [
    "We see that the highest rated country by average is Ethiopia. However, this box plot shows that there are many other countries with individual coffee producing farms that far outrank it. These countries are: Colombia, Taiwan, Laos, Costa Rica, and Guatemala.\n",
    "\n",
    "What processing methods did these top 5 farms have?\n",
    "\n",
    "1. **Finca El Paraiso, Colombia**: Double Anaerobic\n",
    "2. **Royal Bean Geisha Estate, Taiwan**: Washed/Wet\n",
    "3. **OKLAO coffee farms, Laos**: Semi-Washed\n",
    "4. **La Cumbre, Costa Rica**: Washed/Wet\n",
    "5. **La Colina!, Guatemala**: Washed/Wet\n",
    "\n",
    "It is noteworthy to mention that Finca El Paraiso is a world-leader in innovation for coffee production (https://www.thecoffeequest.com/el-paraiso-cauca/). They are pioneers of the Double Anaerobic processing method. It is intensive and their coffee sells for $29/lb. However, it yields an astounding cup of coffee. "
   ]
  },
  {
   "cell_type": "code",
   "execution_count": 28,
   "id": "1c51d5ce",
   "metadata": {},
   "outputs": [],
   "source": [
    "model = ols('Q(\"Total Cup Points\") ~ C(Continent)', data=df).fit()"
   ]
  },
  {
   "cell_type": "code",
   "execution_count": 29,
   "id": "20714f89",
   "metadata": {},
   "outputs": [
    {
     "name": "stdout",
     "output_type": "stream",
     "text": [
      "                  sum_sq     df         F    PR(>F)\n",
      "C(Continent)   49.224889    4.0  4.379517  0.002038\n",
      "Residual      567.609776  202.0       NaN       NaN\n"
     ]
    }
   ],
   "source": [
    "anova_table = sm.stats.anova_lm(model, typ=2)\n",
    "print(anova_table)"
   ]
  },
  {
   "cell_type": "code",
   "execution_count": 30,
   "id": "a6c45faa",
   "metadata": {
    "scrolled": false
   },
   "outputs": [
    {
     "name": "stdout",
     "output_type": "stream",
     "text": [
      "                               sum_sq     df         F    PR(>F)\n",
      "C(Q(\"Country of Origin\"))  172.831720   21.0  3.429178  0.000003\n",
      "Residual                   444.002945  185.0       NaN       NaN\n"
     ]
    }
   ],
   "source": [
    "model2 = ols('Q(\"Total Cup Points\") ~ C(Q(\"Country of Origin\"))', data=df).fit()\n",
    "anova_table2 = sm.stats.anova_lm(model2, typ=2)\n",
    "print(anova_table2)"
   ]
  },
  {
   "cell_type": "code",
   "execution_count": 87,
   "id": "2e28ca32",
   "metadata": {
    "scrolled": true
   },
   "outputs": [
    {
     "name": "stdout",
     "output_type": "stream",
     "text": [
      "                 sum_sq     df         F    PR(>F)\n",
      "C(Altitude)  290.494771   91.0  1.136226  0.263462\n",
      "Residual     292.190035  104.0       NaN       NaN\n"
     ]
    }
   ],
   "source": [
    "model3 = ols('Q(\"Total Cup Points\") ~ C(Altitude)', data=df).fit()\n",
    "anova_table3 = sm.stats.anova_lm(model3, typ=2)\n",
    "print(anova_table3)"
   ]
  },
  {
   "cell_type": "code",
   "execution_count": 114,
   "id": "35e42a44",
   "metadata": {},
   "outputs": [
    {
     "data": {
      "text/plain": [
       "Country of Origin                             Thailand\n",
       "Farm Name                                      Doi Lan\n",
       "Altitude                                        1400.0\n",
       "Region                                      Chiang Rai\n",
       "Variety                 Typica Bourbon Caturra Catimor\n",
       "Processing Method                        Natural / Dry\n",
       "Aroma                                             7.42\n",
       "Flavor                                            7.25\n",
       "Aftertaste                                        7.33\n",
       "Acidity                                           7.42\n",
       "Body                                              7.33\n",
       "Balance                                           7.33\n",
       "Uniformity                                        10.0\n",
       "Clean Cup                                         10.0\n",
       "Sweetness                                         10.0\n",
       "Overall                                           7.25\n",
       "Defects                                            0.0\n",
       "Total Cup Points                                 81.33\n",
       "Moisture Percentage                               10.5\n",
       "Color                                        yellowish\n",
       "Category Two Defects                                 5\n",
       "Name: 191, dtype: object"
      ]
     },
     "execution_count": 114,
     "metadata": {},
     "output_type": "execute_result"
    }
   ],
   "source": [
    "df.iloc[180]"
   ]
  },
  {
   "cell_type": "code",
   "execution_count": 127,
   "id": "58edce91",
   "metadata": {},
   "outputs": [
    {
     "ename": "AttributeError",
     "evalue": "'float' object has no attribute 'shape'",
     "output_type": "error",
     "traceback": [
      "\u001b[0;31m---------------------------------------------------------------------------\u001b[0m",
      "\u001b[0;31mAttributeError\u001b[0m                            Traceback (most recent call last)",
      "Cell \u001b[0;32mIn[127], line 1\u001b[0m\n\u001b[0;32m----> 1\u001b[0m correlation \u001b[38;5;241m=\u001b[39m \u001b[43mdf\u001b[49m\u001b[43m[\u001b[49m\u001b[38;5;124;43m'\u001b[39;49m\u001b[38;5;124;43mAltitude\u001b[39;49m\u001b[38;5;124;43m'\u001b[39;49m\u001b[43m]\u001b[49m\u001b[38;5;241;43m.\u001b[39;49m\u001b[43mcorr\u001b[49m\u001b[43m(\u001b[49m\u001b[43mdf\u001b[49m\u001b[43m[\u001b[49m\u001b[38;5;124;43m'\u001b[39;49m\u001b[38;5;124;43mTotal Cup Points\u001b[39;49m\u001b[38;5;124;43m'\u001b[39;49m\u001b[43m]\u001b[49m\u001b[43m)\u001b[49m\n",
      "File \u001b[0;32m~/anaconda3/lib/python3.10/site-packages/pandas/core/series.py:2760\u001b[0m, in \u001b[0;36mSeries.corr\u001b[0;34m(self, other, method, min_periods)\u001b[0m\n\u001b[1;32m   2757\u001b[0m     \u001b[38;5;28;01mreturn\u001b[39;00m np\u001b[38;5;241m.\u001b[39mnan\n\u001b[1;32m   2759\u001b[0m \u001b[38;5;28;01mif\u001b[39;00m method \u001b[38;5;129;01min\u001b[39;00m [\u001b[38;5;124m\"\u001b[39m\u001b[38;5;124mpearson\u001b[39m\u001b[38;5;124m\"\u001b[39m, \u001b[38;5;124m\"\u001b[39m\u001b[38;5;124mspearman\u001b[39m\u001b[38;5;124m\"\u001b[39m, \u001b[38;5;124m\"\u001b[39m\u001b[38;5;124mkendall\u001b[39m\u001b[38;5;124m\"\u001b[39m] \u001b[38;5;129;01mor\u001b[39;00m callable(method):\n\u001b[0;32m-> 2760\u001b[0m     \u001b[38;5;28;01mreturn\u001b[39;00m \u001b[43mnanops\u001b[49m\u001b[38;5;241;43m.\u001b[39;49m\u001b[43mnancorr\u001b[49m\u001b[43m(\u001b[49m\n\u001b[1;32m   2761\u001b[0m \u001b[43m        \u001b[49m\u001b[43mthis\u001b[49m\u001b[38;5;241;43m.\u001b[39;49m\u001b[43mvalues\u001b[49m\u001b[43m,\u001b[49m\u001b[43m \u001b[49m\u001b[43mother\u001b[49m\u001b[38;5;241;43m.\u001b[39;49m\u001b[43mvalues\u001b[49m\u001b[43m,\u001b[49m\u001b[43m \u001b[49m\u001b[43mmethod\u001b[49m\u001b[38;5;241;43m=\u001b[39;49m\u001b[43mmethod\u001b[49m\u001b[43m,\u001b[49m\u001b[43m \u001b[49m\u001b[43mmin_periods\u001b[49m\u001b[38;5;241;43m=\u001b[39;49m\u001b[43mmin_periods\u001b[49m\n\u001b[1;32m   2762\u001b[0m \u001b[43m    \u001b[49m\u001b[43m)\u001b[49m\n\u001b[1;32m   2764\u001b[0m \u001b[38;5;28;01mraise\u001b[39;00m \u001b[38;5;167;01mValueError\u001b[39;00m(\n\u001b[1;32m   2765\u001b[0m     \u001b[38;5;124m\"\u001b[39m\u001b[38;5;124mmethod must be either \u001b[39m\u001b[38;5;124m'\u001b[39m\u001b[38;5;124mpearson\u001b[39m\u001b[38;5;124m'\u001b[39m\u001b[38;5;124m, \u001b[39m\u001b[38;5;124m\"\u001b[39m\n\u001b[1;32m   2766\u001b[0m     \u001b[38;5;124m\"\u001b[39m\u001b[38;5;124m'\u001b[39m\u001b[38;5;124mspearman\u001b[39m\u001b[38;5;124m'\u001b[39m\u001b[38;5;124m, \u001b[39m\u001b[38;5;124m'\u001b[39m\u001b[38;5;124mkendall\u001b[39m\u001b[38;5;124m'\u001b[39m\u001b[38;5;124m, or a callable, \u001b[39m\u001b[38;5;124m\"\u001b[39m\n\u001b[1;32m   2767\u001b[0m     \u001b[38;5;124mf\u001b[39m\u001b[38;5;124m\"\u001b[39m\u001b[38;5;124m'\u001b[39m\u001b[38;5;132;01m{\u001b[39;00mmethod\u001b[38;5;132;01m}\u001b[39;00m\u001b[38;5;124m'\u001b[39m\u001b[38;5;124m was supplied\u001b[39m\u001b[38;5;124m\"\u001b[39m\n\u001b[1;32m   2768\u001b[0m )\n",
      "File \u001b[0;32m~/anaconda3/lib/python3.10/site-packages/pandas/core/nanops.py:93\u001b[0m, in \u001b[0;36mdisallow.__call__.<locals>._f\u001b[0;34m(*args, **kwargs)\u001b[0m\n\u001b[1;32m     91\u001b[0m \u001b[38;5;28;01mtry\u001b[39;00m:\n\u001b[1;32m     92\u001b[0m     \u001b[38;5;28;01mwith\u001b[39;00m np\u001b[38;5;241m.\u001b[39merrstate(invalid\u001b[38;5;241m=\u001b[39m\u001b[38;5;124m\"\u001b[39m\u001b[38;5;124mignore\u001b[39m\u001b[38;5;124m\"\u001b[39m):\n\u001b[0;32m---> 93\u001b[0m         \u001b[38;5;28;01mreturn\u001b[39;00m \u001b[43mf\u001b[49m\u001b[43m(\u001b[49m\u001b[38;5;241;43m*\u001b[39;49m\u001b[43margs\u001b[49m\u001b[43m,\u001b[49m\u001b[43m \u001b[49m\u001b[38;5;241;43m*\u001b[39;49m\u001b[38;5;241;43m*\u001b[39;49m\u001b[43mkwargs\u001b[49m\u001b[43m)\u001b[49m\n\u001b[1;32m     94\u001b[0m \u001b[38;5;28;01mexcept\u001b[39;00m \u001b[38;5;167;01mValueError\u001b[39;00m \u001b[38;5;28;01mas\u001b[39;00m e:\n\u001b[1;32m     95\u001b[0m     \u001b[38;5;66;03m# we want to transform an object array\u001b[39;00m\n\u001b[1;32m     96\u001b[0m     \u001b[38;5;66;03m# ValueError message to the more typical TypeError\u001b[39;00m\n\u001b[1;32m     97\u001b[0m     \u001b[38;5;66;03m# e.g. this is normally a disallowed function on\u001b[39;00m\n\u001b[1;32m     98\u001b[0m     \u001b[38;5;66;03m# object arrays that contain strings\u001b[39;00m\n\u001b[1;32m     99\u001b[0m     \u001b[38;5;28;01mif\u001b[39;00m is_object_dtype(args[\u001b[38;5;241m0\u001b[39m]):\n",
      "File \u001b[0;32m~/anaconda3/lib/python3.10/site-packages/pandas/core/nanops.py:1554\u001b[0m, in \u001b[0;36mnancorr\u001b[0;34m(a, b, method, min_periods)\u001b[0m\n\u001b[1;32m   1551\u001b[0m     \u001b[38;5;28;01mreturn\u001b[39;00m np\u001b[38;5;241m.\u001b[39mnan\n\u001b[1;32m   1553\u001b[0m f \u001b[38;5;241m=\u001b[39m get_corr_func(method)\n\u001b[0;32m-> 1554\u001b[0m \u001b[38;5;28;01mreturn\u001b[39;00m \u001b[43mf\u001b[49m\u001b[43m(\u001b[49m\u001b[43ma\u001b[49m\u001b[43m,\u001b[49m\u001b[43m \u001b[49m\u001b[43mb\u001b[49m\u001b[43m)\u001b[49m\n",
      "File \u001b[0;32m~/anaconda3/lib/python3.10/site-packages/pandas/core/nanops.py:1575\u001b[0m, in \u001b[0;36mget_corr_func.<locals>.func\u001b[0;34m(a, b)\u001b[0m\n\u001b[1;32m   1574\u001b[0m \u001b[38;5;28;01mdef\u001b[39;00m \u001b[38;5;21mfunc\u001b[39m(a, b):\n\u001b[0;32m-> 1575\u001b[0m     \u001b[38;5;28;01mreturn\u001b[39;00m \u001b[43mnp\u001b[49m\u001b[38;5;241;43m.\u001b[39;49m\u001b[43mcorrcoef\u001b[49m\u001b[43m(\u001b[49m\u001b[43ma\u001b[49m\u001b[43m,\u001b[49m\u001b[43m \u001b[49m\u001b[43mb\u001b[49m\u001b[43m)\u001b[49m[\u001b[38;5;241m0\u001b[39m, \u001b[38;5;241m1\u001b[39m]\n",
      "File \u001b[0;32m<__array_function__ internals>:180\u001b[0m, in \u001b[0;36mcorrcoef\u001b[0;34m(*args, **kwargs)\u001b[0m\n",
      "File \u001b[0;32m~/anaconda3/lib/python3.10/site-packages/numpy/lib/function_base.py:2845\u001b[0m, in \u001b[0;36mcorrcoef\u001b[0;34m(x, y, rowvar, bias, ddof, dtype)\u001b[0m\n\u001b[1;32m   2841\u001b[0m \u001b[38;5;28;01mif\u001b[39;00m bias \u001b[38;5;129;01mis\u001b[39;00m \u001b[38;5;129;01mnot\u001b[39;00m np\u001b[38;5;241m.\u001b[39m_NoValue \u001b[38;5;129;01mor\u001b[39;00m ddof \u001b[38;5;129;01mis\u001b[39;00m \u001b[38;5;129;01mnot\u001b[39;00m np\u001b[38;5;241m.\u001b[39m_NoValue:\n\u001b[1;32m   2842\u001b[0m     \u001b[38;5;66;03m# 2015-03-15, 1.10\u001b[39;00m\n\u001b[1;32m   2843\u001b[0m     warnings\u001b[38;5;241m.\u001b[39mwarn(\u001b[38;5;124m'\u001b[39m\u001b[38;5;124mbias and ddof have no effect and are deprecated\u001b[39m\u001b[38;5;124m'\u001b[39m,\n\u001b[1;32m   2844\u001b[0m                   \u001b[38;5;167;01mDeprecationWarning\u001b[39;00m, stacklevel\u001b[38;5;241m=\u001b[39m\u001b[38;5;241m3\u001b[39m)\n\u001b[0;32m-> 2845\u001b[0m c \u001b[38;5;241m=\u001b[39m \u001b[43mcov\u001b[49m\u001b[43m(\u001b[49m\u001b[43mx\u001b[49m\u001b[43m,\u001b[49m\u001b[43m \u001b[49m\u001b[43my\u001b[49m\u001b[43m,\u001b[49m\u001b[43m \u001b[49m\u001b[43mrowvar\u001b[49m\u001b[43m,\u001b[49m\u001b[43m \u001b[49m\u001b[43mdtype\u001b[49m\u001b[38;5;241;43m=\u001b[39;49m\u001b[43mdtype\u001b[49m\u001b[43m)\u001b[49m\n\u001b[1;32m   2846\u001b[0m \u001b[38;5;28;01mtry\u001b[39;00m:\n\u001b[1;32m   2847\u001b[0m     d \u001b[38;5;241m=\u001b[39m diag(c)\n",
      "File \u001b[0;32m<__array_function__ internals>:180\u001b[0m, in \u001b[0;36mcov\u001b[0;34m(*args, **kwargs)\u001b[0m\n",
      "File \u001b[0;32m~/anaconda3/lib/python3.10/site-packages/numpy/lib/function_base.py:2680\u001b[0m, in \u001b[0;36mcov\u001b[0;34m(m, y, rowvar, bias, ddof, fweights, aweights, dtype)\u001b[0m\n\u001b[1;32m   2677\u001b[0m     \u001b[38;5;28;01melse\u001b[39;00m:\n\u001b[1;32m   2678\u001b[0m         w \u001b[38;5;241m*\u001b[39m\u001b[38;5;241m=\u001b[39m aweights\n\u001b[0;32m-> 2680\u001b[0m avg, w_sum \u001b[38;5;241m=\u001b[39m \u001b[43maverage\u001b[49m\u001b[43m(\u001b[49m\u001b[43mX\u001b[49m\u001b[43m,\u001b[49m\u001b[43m \u001b[49m\u001b[43maxis\u001b[49m\u001b[38;5;241;43m=\u001b[39;49m\u001b[38;5;241;43m1\u001b[39;49m\u001b[43m,\u001b[49m\u001b[43m \u001b[49m\u001b[43mweights\u001b[49m\u001b[38;5;241;43m=\u001b[39;49m\u001b[43mw\u001b[49m\u001b[43m,\u001b[49m\u001b[43m \u001b[49m\u001b[43mreturned\u001b[49m\u001b[38;5;241;43m=\u001b[39;49m\u001b[38;5;28;43;01mTrue\u001b[39;49;00m\u001b[43m)\u001b[49m\n\u001b[1;32m   2681\u001b[0m w_sum \u001b[38;5;241m=\u001b[39m w_sum[\u001b[38;5;241m0\u001b[39m]\n\u001b[1;32m   2683\u001b[0m \u001b[38;5;66;03m# Determine the normalization\u001b[39;00m\n",
      "File \u001b[0;32m<__array_function__ internals>:180\u001b[0m, in \u001b[0;36maverage\u001b[0;34m(*args, **kwargs)\u001b[0m\n",
      "File \u001b[0;32m~/anaconda3/lib/python3.10/site-packages/numpy/lib/function_base.py:554\u001b[0m, in \u001b[0;36maverage\u001b[0;34m(a, axis, weights, returned, keepdims)\u001b[0m\n\u001b[1;32m    550\u001b[0m     avg \u001b[38;5;241m=\u001b[39m np\u001b[38;5;241m.\u001b[39mmultiply(a, wgt,\n\u001b[1;32m    551\u001b[0m                       dtype\u001b[38;5;241m=\u001b[39mresult_dtype)\u001b[38;5;241m.\u001b[39msum(axis, \u001b[38;5;241m*\u001b[39m\u001b[38;5;241m*\u001b[39mkeepdims_kw) \u001b[38;5;241m/\u001b[39m scl\n\u001b[1;32m    553\u001b[0m \u001b[38;5;28;01mif\u001b[39;00m returned:\n\u001b[0;32m--> 554\u001b[0m     \u001b[38;5;28;01mif\u001b[39;00m \u001b[43mscl\u001b[49m\u001b[38;5;241;43m.\u001b[39;49m\u001b[43mshape\u001b[49m \u001b[38;5;241m!=\u001b[39m avg\u001b[38;5;241m.\u001b[39mshape:\n\u001b[1;32m    555\u001b[0m         scl \u001b[38;5;241m=\u001b[39m np\u001b[38;5;241m.\u001b[39mbroadcast_to(scl, avg\u001b[38;5;241m.\u001b[39mshape)\u001b[38;5;241m.\u001b[39mcopy()\n\u001b[1;32m    556\u001b[0m     \u001b[38;5;28;01mreturn\u001b[39;00m avg, scl\n",
      "\u001b[0;31mAttributeError\u001b[0m: 'float' object has no attribute 'shape'"
     ]
    }
   ],
   "source": [
    "correlation = df['Altitude'].corr(df['Total Cup Points'])"
   ]
  },
  {
   "cell_type": "code",
   "execution_count": 126,
   "id": "1b697275",
   "metadata": {},
   "outputs": [
    {
     "name": "stdout",
     "output_type": "stream",
     "text": [
      "<class 'pandas.core.series.Series'>\n"
     ]
    }
   ],
   "source": [
    "print(type(df['Total Cup Points']))"
   ]
  },
  {
   "cell_type": "markdown",
   "id": "941a7a2f",
   "metadata": {},
   "source": [
    "The ANOVA table shows that the differences in average are statistically significant."
   ]
  },
  {
   "cell_type": "markdown",
   "id": "367ba746",
   "metadata": {},
   "source": [
    "### The Best Coffee From Each Continent\n",
    "\n",
    "#### Africa\n",
    "Ethiopia\n",
    "#### Asia \n",
    "Taiwan\n",
    "#### South America \n",
    "Colombia\n",
    "#### North America \n",
    "Guatemala\n",
    "#### Oceania\n",
    "Hawaii"
   ]
  },
  {
   "cell_type": "markdown",
   "id": "ba3efe10",
   "metadata": {},
   "source": [
    "Now, which processing method yields the best results?"
   ]
  },
  {
   "cell_type": "code",
   "execution_count": 32,
   "id": "d9e58b5e",
   "metadata": {
    "scrolled": true
   },
   "outputs": [
    {
     "data": {
      "text/plain": [
       "Processing Method\n",
       "Double Anaerobic Washed                 89.330000\n",
       "Semi Washed                             87.420000\n",
       "Honey,Mossto                            87.080000\n",
       "Double Carbonic Maceration / Natural    84.750000\n",
       "Wet Hulling                             84.250000\n",
       "Natural / Dry                           83.700435\n",
       "Washed / Wet                            83.645726\n",
       "Pulped natural / honey                  83.552000\n",
       "Anaerobico 1000h                        83.250000\n",
       "SEMI-LAVADO                             78.000000\n",
       "Name: Total Cup Points, dtype: float64"
      ]
     },
     "execution_count": 32,
     "metadata": {},
     "output_type": "execute_result"
    }
   ],
   "source": [
    "df.groupby('Processing Method').mean('Overall')['Total Cup Points'].sort_values(ascending=False)"
   ]
  },
  {
   "cell_type": "code",
   "execution_count": 33,
   "id": "661eb920",
   "metadata": {},
   "outputs": [
    {
     "name": "stdout",
     "output_type": "stream",
     "text": [
      "                               sum_sq     df         F    PR(>F)\n",
      "C(Q(\"Processing Method\"))   91.945456    9.0  3.790956  0.000202\n",
      "Residual                   517.416426  192.0       NaN       NaN\n"
     ]
    }
   ],
   "source": [
    "model3 = ols('Q(\"Total Cup Points\") ~ C(Q(\"Processing Method\"))', data=df).fit()\n",
    "anova_table3 = sm.stats.anova_lm(model3, typ=2)\n",
    "print(anova_table3)"
   ]
  },
  {
   "cell_type": "markdown",
   "id": "7d362ff3",
   "metadata": {},
   "source": [
    "The differences are statistically significant."
   ]
  },
  {
   "cell_type": "code",
   "execution_count": 34,
   "id": "08dcf2b4",
   "metadata": {
    "scrolled": true
   },
   "outputs": [
    {
     "data": {
      "image/png": "[encoded data removed]",
      "text/plain": [
       "<Figure size 640x480 with 1 Axes>"
      ]
     },
     "metadata": {},
     "output_type": "display_data"
    }
   ],
   "source": [
    "sns.boxplot(x='Processing Method', y='Total Cup Points', data=df)\n",
    "plt.title('Total Cup Points by Processing Method')\n",
    "plt.xticks(rotation=90, fontsize = 10)\n",
    "plt.show()"
   ]
  },
  {
   "cell_type": "code",
   "execution_count": 111,
   "id": "14b95c03",
   "metadata": {},
   "outputs": [
    {
     "name": "stderr",
     "output_type": "stream",
     "text": [
      "/var/folders/63/64hr9td107z64fpxv0p8nbr80000gn/T/ipykernel_5699/1464157473.py:1: FutureWarning: The default value of numeric_only in DataFrame.corr is deprecated. In a future version, it will default to False. Select only valid columns or specify the value of numeric_only to silence this warning.\n",
      "  matrix = df.corr()\n"
     ]
    }
   ],
   "source": [
    "matrix = df.corr()"
   ]
  },
  {
   "cell_type": "code",
   "execution_count": 41,
   "id": "d9fef8a8",
   "metadata": {},
   "outputs": [
    {
     "data": {
      "image/png": "[encoded data removed]",
      "text/plain": [
       "<Figure size 640x480 with 2 Axes>"
      ]
     },
     "metadata": {},
     "output_type": "display_data"
    }
   ],
   "source": [
    "plt.imshow(matrix, cmap='Greens')\n",
    "variables = []\n",
    "plt.colorbar()\n",
    "for i in matrix.columns:\n",
    "    variables.append(i)\n",
    "plt.xticks(range(len(matrix)), variables, rotation=45, ha='right')\n",
    "plt.yticks(range(len(matrix)), variables)\n",
    "plt.show()"
   ]
  },
  {
   "cell_type": "markdown",
   "id": "6808b7f1",
   "metadata": {},
   "source": [
    "We can see that there is quite some variation here. "
   ]
  },
  {
   "cell_type": "code",
   "execution_count": 37,
   "id": "4a12e68f",
   "metadata": {
    "scrolled": true
   },
   "outputs": [
    {
     "data": {
      "text/plain": [
       "Processing Method\n",
       "Anaerobico 1000h                          1\n",
       "Double Anaerobic Washed                   1\n",
       "Double Carbonic Maceration / Natural      1\n",
       "Honey,Mossto                              1\n",
       "Natural / Dry                            46\n",
       "Pulped natural / honey                   25\n",
       "SEMI-LAVADO                               1\n",
       "Semi Washed                               1\n",
       "Washed / Wet                            124\n",
       "Wet Hulling                               1\n",
       "dtype: int64"
      ]
     },
     "execution_count": 37,
     "metadata": {},
     "output_type": "execute_result"
    }
   ],
   "source": [
    "df.groupby('Processing Method').size() # go deeper, pull from external sources "
   ]
  },
  {
   "cell_type": "markdown",
   "id": "f019c9df",
   "metadata": {},
   "source": [
    "## CONCLUSION\n",
    "\n",
    "We note that Ethiopia, on average, has the best coffee in the world. This could be a good mark for consumers that they can purchase Ethiopian coffee and be sure that it will be a good cup of coffee.\n",
    "\n",
    "For the coffee shop owner and for coffee-producing farms, although the processing methods are important, they do not play as large a factor. The different, most popular processing methods produce different profile results, but are all within one cup point average of each other.\n",
    "\n",
    "Coffee-producing farms should investigate further into experimental methods of coffee processing methods. The data is scant here, but newer methods suggest an exceptionally better cup of coffee. \n",
    "\n",
    "Further investigation that would be interesting would include the effect of altitude on the taste of coffee. "
   ]
  }
 ],
 "metadata": {
  "kernelspec": {
   "display_name": "Python 3 (ipykernel)",
   "language": "python",
   "name": "python3"
  },
  "language_info": {
   "codemirror_mode": {
    "name": "ipython",
    "version": 3
   },
   "file_extension": ".py",
   "mimetype": "text/x-python",
   "name": "python",
   "nbconvert_exporter": "python",
   "pygments_lexer": "ipython3",
   "version": "3.10.9"
  }
 },
 "nbformat": 4,
 "nbformat_minor": 5
}
